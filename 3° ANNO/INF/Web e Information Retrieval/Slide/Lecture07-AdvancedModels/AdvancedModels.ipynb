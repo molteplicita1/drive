{
 "cells": [
  {
   "cell_type": "markdown",
   "metadata": {},
   "source": [
    "# Advanced IR Models"
   ]
  },
  {
   "cell_type": "markdown",
   "metadata": {},
   "source": [
    "## N-Grams"
   ]
  },
  {
   "cell_type": "code",
   "execution_count": 2,
   "metadata": {},
   "outputs": [
    {
     "name": "stdout",
     "output_type": "stream",
     "text": [
      "['car' 'describ' 'describ race' 'document' 'document describ'\n",
      " 'document video' 'game' 'kill' 'kill radio' 'nice' 'nice race' 'race'\n",
      " 'race car' 'race video' 'radio' 'radio star' 'star' 'tabl' 'tabl game'\n",
      " 'video' 'video game' 'video kill' 'video tabl']\n"
     ]
    },
    {
     "name": "stderr",
     "output_type": "stream",
     "text": [
      "/Users/mdipenta/webIR2024/.venv/lib/python3.11/site-packages/sklearn/feature_extraction/text.py:525: UserWarning: The parameter 'token_pattern' will not be used since 'tokenizer' is not None'\n",
      "  warnings.warn(\n"
     ]
    }
   ],
   "source": [
    "from sklearn.feature_extraction.text import TfidfVectorizer\n",
    "from sklearn.metrics.pairwise import cosine_similarity\n",
    "from nltk.tokenize import word_tokenize\n",
    "from nltk.corpus import stopwords\n",
    "from nltk.stem import snowball\n",
    "import re\n",
    "\n",
    "def my_tokenizer(text):\n",
    "        sw=stopwords.words('english')\n",
    "        stemmer=snowball.SnowballStemmer(language=\"english\")\n",
    "        tokens=word_tokenize(text)\n",
    "        pruned=[stemmer.stem(t) for t in tokens if re.search(r\"^[a-zA-Z]\",t) and not t in sw]\n",
    "        return pruned\n",
    "\n",
    "#initialize the vectorizer considering bigrams\n",
    "vectorizer=TfidfVectorizer(tokenizer=my_tokenizer,ngram_range=(1,2))\n",
    "\n",
    "#Add the files in the corpus, a document on each line\n",
    "corpus=[\"This document describes racing cars\",\n",
    "        \"This document is about videos of table games\",\n",
    "        \"This is a nice racing video game\",\n",
    "         \"Video killed the radio star\"]\n",
    "\n",
    "#creates the model\n",
    "model=vectorizer.fit_transform(corpus)\n",
    "#print the dictionary\n",
    "print(vectorizer.get_feature_names_out())"
   ]
  },
  {
   "cell_type": "markdown",
   "metadata": {},
   "source": [
    "Running a query"
   ]
  },
  {
   "cell_type": "code",
   "execution_count": 3,
   "metadata": {},
   "outputs": [
    {
     "name": "stdout",
     "output_type": "stream",
     "text": [
      "[[0.         0.30389824 0.59923094 0.11299246]]\n"
     ]
    }
   ],
   "source": [
    "query=vectorizer.transform([\"video game\"])\n",
    "\n",
    "cos=cosine_similarity(query,model)\n",
    "print(cos)"
   ]
  },
  {
   "cell_type": "markdown",
   "metadata": {},
   "source": [
    "## Latent Semantic Indexing"
   ]
  },
  {
   "cell_type": "code",
   "execution_count": 4,
   "metadata": {},
   "outputs": [],
   "source": [
    "from gensim import corpora\n",
    "from gensim import models\n",
    "from gensim import similarities\n",
    "from nltk.tokenize import word_tokenize\n",
    "from nltk.corpus import stopwords\n",
    "from nltk.stem import snowball\n",
    "import re\n",
    "\n",
    "def my_tokenizer(text):\n",
    "    \"\"\"tokenization function\"\"\"\n",
    "    sw=stopwords.words('english')\n",
    "    stemmer=snowball.SnowballStemmer(language=\"english\")\n",
    "    tokens=word_tokenize(text)\n",
    "    pruned=[stemmer.stem(t.lower()) for t in tokens \\\n",
    "            if re.search(r\"^[a-zA-Z]\",t) and not t.lower() in sw]\n",
    "    return pruned\n",
    "\n",
    "documents=[\"Indian government goes for open source software\",\n",
    "\"Debian 3.0 Woody released\",\n",
    "\"Wine 2.0 released with fixes for Gentoo 1.4 and Debian 3.0\",\n",
    "\"gnuPOD released: iPOD on Linux… with GPLed software\",\n",
    "\"Gentoo servers running at open source mySQL database\",\n",
    "\"Dolly the sheep not totally identical clone\",\n",
    "\"DNA news: introduced low-cost human genome DNA chip\",\n",
    "\"Malaria-parasite genome database on the Web\",\n",
    "\"UK sets up genome bank to protect rare sheep breeds\",\n",
    "\"Dolly's DNA damaged\"]"
   ]
  },
  {
   "cell_type": "markdown",
   "metadata": {},
   "source": [
    "Creating LSI models and adding similarities..."
   ]
  },
  {
   "cell_type": "code",
   "execution_count": 5,
   "metadata": {},
   "outputs": [],
   "source": [
    "texts=[]\n",
    "for d in documents:\n",
    "    # creates an array of tokenized documents\n",
    "    texts.append(my_tokenizer(d))\n",
    "\n",
    "#creates the dictionary for the document corpus\n",
    "dictionary = corpora.Dictionary(texts)\n",
    "#creates a bag of word corpus\n",
    "bow_corpus=[dictionary.doc2bow(text) for text in texts]\n",
    "\n",
    "#creates a tf-idf model from the bag of word corpus\n",
    "tfidf = models.TfidfModel(bow_corpus)\n",
    "\n",
    "#extracts the tf-idf corpus\n",
    "corpus_tfidf = tfidf[bow_corpus]\n",
    "\n",
    "#creates the LSI model, with 2 topics\n",
    "lsi_model=models.LsiModel(corpus_tfidf,num_topics=2,id2word=dictionary)\n",
    "\n",
    "#creates an index that facilitates the computation of similarities\n",
    "index = similarities.MatrixSimilarity(lsi_model[corpus_tfidf])"
   ]
  },
  {
   "cell_type": "markdown",
   "metadata": {},
   "source": [
    "Printing similarities..."
   ]
  },
  {
   "cell_type": "code",
   "execution_count": 6,
   "metadata": {},
   "outputs": [
    {
     "name": "stdout",
     "output_type": "stream",
     "text": [
      "[1.0000001  0.97902197 0.9843578  0.9853968  0.99798703 0.10885489\n",
      " 0.13524207 0.68249047 0.19551672 0.11114562]\n",
      "[ 0.10885489 -0.09597263 -0.06798209 -0.06199703  0.17167735  1.\n",
      "  0.9996466   0.8008437   0.9961556   0.9999973 ]\n"
     ]
    }
   ],
   "source": [
    "print(list(index)[0])\n",
    "print(list(index)[5])"
   ]
  },
  {
   "cell_type": "markdown",
   "metadata": {},
   "source": [
    "Running a query"
   ]
  },
  {
   "cell_type": "code",
   "execution_count": 7,
   "metadata": {},
   "outputs": [
    {
     "name": "stdout",
     "output_type": "stream",
     "text": [
      "[(0, 0.118368536), (1, -0.08643689), (2, -0.05842559), (3, -0.05243706), (4, 0.18110284), (5, 0.9999541), (6, 0.99985534), (7, 0.8065415), (8, 0.9969488), (9, 0.99997354)]\n"
     ]
    }
   ],
   "source": [
    "#tokenizes the query\n",
    "query_document = my_tokenizer(\"DNA\")\n",
    "\n",
    "#indexes the query using the documents' dictionary\n",
    "query_bow = dictionary.doc2bow(query_document)\n",
    "query_lsi = lsi_model[query_bow]  # convert the query to LSI space\n",
    "\n",
    "\n",
    "#computes the similarity between the query and the documents\n",
    "sims = index[query_lsi]\n",
    "print(list(enumerate(sims)))"
   ]
  },
  {
   "cell_type": "markdown",
   "metadata": {},
   "source": [
    "Unsurprisingly, the query is very similar to the last 5 documents, even if not all of them contain the term “DNA”"
   ]
  },
  {
   "cell_type": "markdown",
   "metadata": {},
   "source": [
    "Getting the LSI model:"
   ]
  },
  {
   "cell_type": "code",
   "execution_count": 8,
   "metadata": {},
   "outputs": [
    {
     "name": "stdout",
     "output_type": "stream",
     "text": [
      "[0.32258570270232195, -0.011813322545720484]\n",
      "[0.6534290583018239, 0.1112154310261179]\n",
      "[0.7148643126316747, 0.10110548067678715]\n",
      "[0.3631170170144967, 0.0491371699007727]\n",
      "[0.4371576359197479, -0.04389094154630967]\n",
      "[0.03384809269857176, -0.46626716310180805]\n",
      "[0.06473954701070801, -0.6514432585710749]\n",
      "[0.1601939884848445, -0.1846639499143885]\n",
      "[0.03956125166498163, -0.24486415600169917]\n",
      "[0.05646889808275636, -0.7538129187682796]\n"
     ]
    }
   ],
   "source": [
    "corpus_lsi=lsi_model[corpus_tfidf]\n",
    "for doc in corpus_lsi:\n",
    "    scores=[topic_score for (topic_id, topic_score) in doc]\n",
    "    print(scores)"
   ]
  },
  {
   "cell_type": "markdown",
   "metadata": {},
   "source": [
    "Printing topics..."
   ]
  },
  {
   "cell_type": "code",
   "execution_count": 9,
   "metadata": {},
   "outputs": [
    {
     "name": "stdout",
     "output_type": "stream",
     "text": [
      "[('debian', 0.4434854694998984), ('releas', 0.39387184658100166), ('woodi', 0.3514242109573059), ('gentoo', 0.2958535529232635), ('fix', 0.2830600541023718), ('wine', 0.28306005410237167), ('open', 0.17417437157754553), ('sourc', 0.17417437157754548), ('softwar', 0.15920294729105086), ('databas', 0.14610110507158386)]\n"
     ]
    }
   ],
   "source": [
    "print(lsi_model.show_topic(0))"
   ]
  },
  {
   "cell_type": "code",
   "execution_count": 10,
   "metadata": {},
   "outputs": [
    {
     "name": "stdout",
     "output_type": "stream",
     "text": [
      "[('dna', -0.5359729615542276), ('dolli', -0.4042679632122833), ('damag', -0.40273638947754503), ('news', -0.18203378118963026), ('low-cost', -0.18203378118963026), ('introduc', -0.18203378118963026), ('human', -0.18203378118963026), ('chip', -0.18203378118963023), ('genom', -0.1758161678537646), ('clone', -0.17564030867034555)]\n"
     ]
    }
   ],
   "source": [
    "print(lsi_model.show_topic(1))"
   ]
  },
  {
   "cell_type": "markdown",
   "metadata": {},
   "source": [
    "Let's now determine the optimal number of topics by analyzing the model's coherence"
   ]
  },
  {
   "cell_type": "code",
   "execution_count": 13,
   "metadata": {},
   "outputs": [
    {
     "data": {
      "text/plain": [
       "Text(0, 0.5, 'Coherence score')"
      ]
     },
     "execution_count": 13,
     "metadata": {},
     "output_type": "execute_result"
    },
    {
     "data": {
      "image/png": "[encoded data removed]",
      "text/plain": [
       "<Figure size 640x480 with 1 Axes>"
      ]
     },
     "metadata": {},
     "output_type": "display_data"
    }
   ],
   "source": [
    "from gensim.models import CoherenceModel\n",
    "import matplotlib.pyplot as plt\n",
    "\n",
    "coherence_values = []\n",
    "model_list = []\n",
    "for num_topics in range(2, 10):\n",
    "    model = models.LsiModel(corpus_tfidf, num_topics=num_topics, id2word=dictionary)\n",
    "    model_list.append(model)\n",
    "    coherencemodel = CoherenceModel(model=model, texts=texts, dictionary=dictionary, coherence='c_v')\n",
    "    coherence_values.append(coherencemodel.get_coherence())\n",
    "\n",
    "plt.plot(range(2, 10), coherence_values)\n",
    "plt.xlabel(\"Num Topics\")\n",
    "plt.ylabel(\"Coherence score\")"
   ]
  },
  {
   "cell_type": "code",
   "execution_count": 15,
   "metadata": {},
   "outputs": [
    {
     "data": {
      "text/plain": [
       "Text(0, 0.5, 'Coherence score')"
      ]
     },
     "execution_count": 15,
     "metadata": {},
     "output_type": "execute_result"
    },
    {
     "data": {
      "image/png": "[encoded data removed]",
      "text/plain": [
       "<Figure size 640x480 with 1 Axes>"
      ]
     },
     "metadata": {},
     "output_type": "display_data"
    }
   ],
   "source": [
    "# compute coherence models using u-mass\n",
    "coherence_values_umass = []\n",
    "model_list_umass = []\n",
    "for num_topics in range(2, 10):\n",
    "    model = models.LsiModel(corpus_tfidf, num_topics=num_topics, id2word=dictionary)\n",
    "    model_list_umass.append(model)\n",
    "    coherencemodel = CoherenceModel(model=model, texts=texts, dictionary=dictionary, coherence='u_mass')\n",
    "    coherence_values_umass.append(coherencemodel.get_coherence())\n",
    "\n",
    "plt.plot(range(2, 10), coherence_values_umass)\n",
    "plt.xlabel(\"Num Topics\")\n",
    "plt.ylabel(\"Coherence score\")\n"
   ]
  }
 ],
 "metadata": {
  "kernelspec": {
   "display_name": ".venv",
   "language": "python",
   "name": "python3"
  },
  "language_info": {
   "codemirror_mode": {
    "name": "ipython",
    "version": 3
   },
   "file_extension": ".py",
   "mimetype": "text/x-python",
   "name": "python",
   "nbconvert_exporter": "python",
   "pygments_lexer": "ipython3",
   "version": "3.11.5"
  }
 },
 "nbformat": 4,
 "nbformat_minor": 2
}