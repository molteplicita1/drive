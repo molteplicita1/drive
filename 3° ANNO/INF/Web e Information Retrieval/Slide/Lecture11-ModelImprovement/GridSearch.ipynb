{
 "cells": [
  {
   "cell_type": "markdown",
   "id": "4f23f81b-bc5f-45a2-9f92-3c4a4edba515",
   "metadata": {},
   "source": [
    "# Grid Search Hyperparameter Calibration"
   ]
  },
  {
   "cell_type": "markdown",
   "id": "5d4ca07e-9ebd-4538-a858-961208635382",
   "metadata": {},
   "source": [
    "Importing the dataset"
   ]
  },
  {
   "cell_type": "code",
   "execution_count": 1,
   "id": "4da432ea-440e-465d-a8a6-75adda81d8da",
   "metadata": {
    "tags": []
   },
   "outputs": [
    {
     "name": "stdout",
     "output_type": "stream",
     "text": [
      "   type                                               text\n",
      "0   ham  Hope you are having a good week. Just checking in\n",
      "1   ham                            K..give back my thanks.\n",
      "2   ham        Am also doing in cbe only. But have to pay.\n",
      "3  spam  complimentary 4 STAR Ibiza Holiday or £10,000 ...\n",
      "4  spam  okmail: Dear Dave this is your final notice to...\n",
      "Shape: (5559, 2) \n",
      "\n"
     ]
    }
   ],
   "source": [
    "import pandas as pd\n",
    "from nltk.corpus import stopwords\n",
    "import gensim\n",
    "import numpy as np\n",
    "\n",
    "\n",
    "dataset=pd.read_csv(\"sms_spam.csv\")\n",
    "\n",
    "print(dataset.head())\n",
    "print (\"Shape:\", dataset.shape, '\\n')"
   ]
  },
  {
   "cell_type": "markdown",
   "id": "dad401ac-e944-43e1-8923-d8266aaa6a02",
   "metadata": {},
   "source": [
    "Preprocessing function"
   ]
  },
  {
   "cell_type": "code",
   "execution_count": 2,
   "id": "b1d52a1a-4062-49bb-bfce-16234df64cc3",
   "metadata": {
    "tags": []
   },
   "outputs": [],
   "source": [
    "def transformText(text):\n",
    "    stops = set(stopwords.words(\"english\"))\n",
    "    # Convert text to lowercase\n",
    "    text = text.lower()\n",
    "    # Strip multiple whitespaces\n",
    "    text = gensim.corpora.textcorpus.strip_multiple_whitespaces(text)\n",
    "    # Removing all the stopwords\n",
    "    filtered_words = [word for word in text.split() if word not in stops]\n",
    "    # Preprocessed text after stop words removal\n",
    "    text = \" \".join(filtered_words)\n",
    "    # Remove the punctuation\n",
    "    text = gensim.parsing.preprocessing.strip_punctuation(text)\n",
    "    # Strip all the numerics\n",
    "    text = gensim.parsing.preprocessing.strip_numeric(text)\n",
    "    # Removing all the words with < 3 characters\n",
    "    text = gensim.parsing.preprocessing.strip_short(text, minsize=3)\n",
    "    # Strip multiple whitespaces\n",
    "    text = gensim.corpora.textcorpus.strip_multiple_whitespaces(text)\n",
    "    # Stemming\n",
    "    return gensim.parsing.preprocessing.stem_text(text)"
   ]
  },
  {
   "cell_type": "markdown",
   "id": "e54c2c02-a7e1-4530-8a32-13b190dd13fc",
   "metadata": {},
   "source": [
    "Preprocessing"
   ]
  },
  {
   "cell_type": "code",
   "execution_count": 3,
   "id": "f24a3518-0949-4b60-b370-62c1bbb29f36",
   "metadata": {
    "tags": []
   },
   "outputs": [
    {
     "name": "stdout",
     "output_type": "stream",
     "text": [
      "0                                 hope good week check\n",
      "1                                      give back thank\n",
      "2                                    also cbe onli pai\n",
      "3    complimentari star ibiza holidai cash need urg...\n",
      "4    okmail dear dave final notic collect tenerif h...\n",
      "Name: text, dtype: object\n"
     ]
    }
   ],
   "source": [
    "#applies transformText to all rows of text\n",
    "dataset['text'] = dataset['text'].map(transformText)\n",
    "print(dataset['text'].head())"
   ]
  },
  {
   "cell_type": "markdown",
   "id": "39e54308-cd7c-466a-9828-821b1026deb1",
   "metadata": {},
   "source": [
    "Creating training and test set"
   ]
  },
  {
   "cell_type": "code",
   "execution_count": 4,
   "id": "4989bb87-87e3-48a0-a366-b33e257ea733",
   "metadata": {
    "tags": []
   },
   "outputs": [
    {
     "name": "stdout",
     "output_type": "stream",
     "text": [
      "Training Sample Size: 3724   Test Sample Size: 1835\n"
     ]
    }
   ],
   "source": [
    "## Split the data\n",
    "from sklearn.model_selection import train_test_split\n",
    "X_train, X_test, y_train, y_test = train_test_split(dataset['text'], dataset['type'],\n",
    "                                                    test_size=0.33, random_state=10)\n",
    "\n",
    "print (\"Training Sample Size:\", len(X_train), ' ', \"Test Sample Size:\" ,len(X_test))"
   ]
  },
  {
   "cell_type": "markdown",
   "id": "28ced4b4-1b78-47dc-8a8e-e6b96aac274a",
   "metadata": {},
   "source": [
    "Creating a tf-idf model"
   ]
  },
  {
   "cell_type": "code",
   "execution_count": 5,
   "id": "d612bddf-29eb-4470-9e35-5dc3f1a90ce2",
   "metadata": {
    "tags": []
   },
   "outputs": [
    {
     "name": "stdout",
     "output_type": "stream",
     "text": [
      "Dimension of TF-IDF vector : (3724, 5056)\n"
     ]
    }
   ],
   "source": [
    "#Build the counting corpus\n",
    "from sklearn.feature_extraction.text import CountVectorizer\n",
    "count_vect = CountVectorizer()\n",
    "X_train_counts = count_vect.fit_transform(X_train)\n",
    "\n",
    "## Get the TF-IDF vector representation of the data\n",
    "from sklearn.feature_extraction.text import TfidfTransformer\n",
    "tfidf_transformer = TfidfTransformer()\n",
    "X_train_tfidf = tfidf_transformer.fit_transform(X_train_counts)\n",
    "print ('Dimension of TF-IDF vector :' , X_train_tfidf.shape)"
   ]
  },
  {
   "cell_type": "markdown",
   "id": "9007df80-8d5e-42e1-9c90-433b58dc4061",
   "metadata": {},
   "source": [
    "Creating the classifier"
   ]
  },
  {
   "cell_type": "code",
   "execution_count": 6,
   "id": "5d172ecf-0634-4366-81a0-483dffed5e78",
   "metadata": {
    "tags": []
   },
   "outputs": [
    {
     "name": "stdout",
     "output_type": "stream",
     "text": [
      "dict_keys(['C', 'break_ties', 'cache_size', 'class_weight', 'coef0', 'decision_function_shape', 'degree', 'gamma', 'kernel', 'max_iter', 'probability', 'random_state', 'shrinking', 'tol', 'verbose'])\n"
     ]
    }
   ],
   "source": [
    "from sklearn.model_selection import GridSearchCV\n",
    "from sklearn import svm\n",
    "from time import time\n",
    "\n",
    "#creates a model instance with no parameters\n",
    "svc=svm.SVC()\n",
    "\n",
    "# prints the list of parameters for the model\n",
    "print(svm.SVC().get_params().keys())\n",
    "\n"
   ]
  },
  {
   "cell_type": "markdown",
   "id": "65a429ce",
   "metadata": {},
   "source": [
    "Create a dictionary with possible values for some parameters"
   ]
  },
  {
   "cell_type": "code",
   "execution_count": 7,
   "id": "fbc5899b",
   "metadata": {},
   "outputs": [],
   "source": [
    "\n",
    "parameters = {\n",
    "    'C': [1, 10, 100, 1000],\n",
    "    'gamma': [0.001, 0.0001],\n",
    "    'kernel': ['rbf','linear']\n",
    "}"
   ]
  },
  {
   "cell_type": "markdown",
   "id": "e812d33b",
   "metadata": {},
   "source": [
    "Instantiating and running Grid Search"
   ]
  },
  {
   "cell_type": "code",
   "execution_count": 8,
   "id": "2a10640b",
   "metadata": {},
   "outputs": [
    {
     "name": "stdout",
     "output_type": "stream",
     "text": [
      "Performing grid search...\n",
      "parameters:\n",
      "{'C': [1, 10, 100, 1000], 'gamma': [0.001, 0.0001], 'kernel': ['rbf', 'linear']}\n",
      "Fitting 5 folds for each of 16 candidates, totalling 80 fits\n",
      "[CV 3/5; 2/16] START C=1, gamma=0.001, kernel=linear............................[CV 1/5; 2/16] START C=1, gamma=0.001, kernel=linear............................[CV 2/5; 1/16] START C=1, gamma=0.001, kernel=rbf...............................\n",
      "[CV 2/5; 2/16] START C=1, gamma=0.001, kernel=linear............................\n",
      "[CV 5/5; 1/16] START C=1, gamma=0.001, kernel=rbf...............................\n",
      "\n",
      "\n",
      "[CV 1/5; 1/16] START C=1, gamma=0.001, kernel=rbf...............................\n",
      "[CV 4/5; 1/16] START C=1, gamma=0.001, kernel=rbf...............................\n",
      "[CV 3/5; 1/16] START C=1, gamma=0.001, kernel=rbf...............................\n",
      "[CV 2/5; 2/16] END C=1, gamma=0.001, kernel=linear;, score=0.972 total time=   0.3s\n",
      "[CV 3/5; 2/16] END C=1, gamma=0.001, kernel=linear;, score=0.969 total time=   0.4s\n",
      "[CV 1/5; 2/16] END C=1, gamma=0.001, kernel=linear;, score=0.979 total time=   0.4s\n",
      "[CV 4/5; 2/16] START C=1, gamma=0.001, kernel=linear............................\n",
      "[CV 1/5; 1/16] END C=1, gamma=0.001, kernel=rbf;, score=0.867 total time=   0.4s\n",
      "[CV 5/5; 2/16] START C=1, gamma=0.001, kernel=linear............................\n",
      "[CV 3/5; 1/16] END C=1, gamma=0.001, kernel=rbf;, score=0.867 total time=   0.4s\n",
      "[CV 4/5; 1/16] END C=1, gamma=0.001, kernel=rbf;, score=0.867 total time=   0.4s\n",
      "[CV 5/5; 1/16] END C=1, gamma=0.001, kernel=rbf;, score=0.867 total time=   0.4s\n",
      "[CV 1/5; 3/16] START C=1, gamma=0.0001, kernel=rbf..............................\n",
      "[CV 2/5; 1/16] END C=1, gamma=0.001, kernel=rbf;, score=0.867 total time=   0.4s\n",
      "[CV 2/5; 3/16] START C=1, gamma=0.0001, kernel=rbf..............................\n",
      "[CV 3/5; 3/16] START C=1, gamma=0.0001, kernel=rbf..............................\n",
      "[CV 4/5; 3/16] START C=1, gamma=0.0001, kernel=rbf..............................\n",
      "[CV 5/5; 3/16] START C=1, gamma=0.0001, kernel=rbf..............................\n",
      "[CV 1/5; 4/16] START C=1, gamma=0.0001, kernel=linear...........................\n",
      "[CV 2/5; 3/16] END C=1, gamma=0.0001, kernel=rbf;, score=0.867 total time=   0.4s\n",
      "[CV 2/5; 4/16] START C=1, gamma=0.0001, kernel=linear...........................\n",
      "[CV 4/5; 2/16] END C=1, gamma=0.001, kernel=linear;, score=0.987 total time=   0.5s\n",
      "[CV 3/5; 4/16] START C=1, gamma=0.0001, kernel=linear...........................\n",
      "[CV 1/5; 3/16] END C=1, gamma=0.0001, kernel=rbf;, score=0.867 total time=   0.5s\n",
      "[CV 4/5; 4/16] START C=1, gamma=0.0001, kernel=linear...........................\n",
      "[CV 5/5; 2/16] END C=1, gamma=0.001, kernel=linear;, score=0.970 total time=   0.5s\n",
      "[CV 5/5; 4/16] START C=1, gamma=0.0001, kernel=linear...........................\n",
      "[CV 1/5; 4/16] END C=1, gamma=0.0001, kernel=linear;, score=0.979 total time=   0.4s\n",
      "[CV 1/5; 5/16] START C=10, gamma=0.001, kernel=rbf..............................\n",
      "[CV 4/5; 3/16] END C=1, gamma=0.0001, kernel=rbf;, score=0.867 total time=   0.4s\n",
      "[CV 2/5; 5/16] START C=10, gamma=0.001, kernel=rbf..............................\n",
      "[CV 3/5; 3/16] END C=1, gamma=0.0001, kernel=rbf;, score=0.867 total time=   0.4s\n",
      "[CV 3/5; 5/16] START C=10, gamma=0.001, kernel=rbf..............................\n",
      "[CV 5/5; 3/16] END C=1, gamma=0.0001, kernel=rbf;, score=0.867 total time=   0.5s\n",
      "[CV 4/5; 5/16] START C=10, gamma=0.001, kernel=rbf..............................\n",
      "[CV 2/5; 4/16] END C=1, gamma=0.0001, kernel=linear;, score=0.972 total time=   0.3s\n",
      "[CV 5/5; 5/16] START C=10, gamma=0.001, kernel=rbf..............................\n",
      "[CV 3/5; 4/16] END C=1, gamma=0.0001, kernel=linear;, score=0.969 total time=   0.3s\n",
      "[CV 1/5; 6/16] START C=10, gamma=0.001, kernel=linear...........................\n",
      "[CV 4/5; 4/16] END C=1, gamma=0.0001, kernel=linear;, score=0.987 total time=   0.3s\n",
      "[CV 2/5; 6/16] START C=10, gamma=0.001, kernel=linear...........................\n",
      "[CV 5/5; 4/16] END C=1, gamma=0.0001, kernel=linear;, score=0.970 total time=   0.3s\n",
      "[CV 3/5; 6/16] START C=10, gamma=0.001, kernel=linear...........................\n",
      "[CV 1/5; 5/16] END C=10, gamma=0.001, kernel=rbf;, score=0.867 total time=   0.4s\n",
      "[CV 2/5; 5/16] END C=10, gamma=0.001, kernel=rbf;, score=0.867 total time=   0.4s\n",
      "[CV 4/5; 6/16] START C=10, gamma=0.001, kernel=linear...........................\n",
      "[CV 3/5; 5/16] END C=10, gamma=0.001, kernel=rbf;, score=0.867 total time=   0.4s\n",
      "[CV 1/5; 7/16] START C=10, gamma=0.0001, kernel=rbf.............................\n",
      "[CV 5/5; 6/16] START C=10, gamma=0.001, kernel=linear...........................\n",
      "[CV 4/5; 5/16] END C=10, gamma=0.001, kernel=rbf;, score=0.867 total time=   0.5s\n",
      "[CV 2/5; 7/16] START C=10, gamma=0.0001, kernel=rbf.............................\n",
      "[CV 1/5; 6/16] END C=10, gamma=0.001, kernel=linear;, score=0.974 total time=   0.3s\n",
      "[CV 3/5; 7/16] START C=10, gamma=0.0001, kernel=rbf.............................\n",
      "[CV 2/5; 6/16] END C=10, gamma=0.001, kernel=linear;, score=0.973 total time=   0.3s\n",
      "[CV 4/5; 7/16] START C=10, gamma=0.0001, kernel=rbf.............................\n",
      "[CV 3/5; 6/16] END C=10, gamma=0.001, kernel=linear;, score=0.976 total time=   0.3s\n",
      "[CV 5/5; 7/16] START C=10, gamma=0.0001, kernel=rbf.............................\n",
      "[CV 5/5; 5/16] END C=10, gamma=0.001, kernel=rbf;, score=0.867 total time=   0.5s\n",
      "[CV 1/5; 8/16] START C=10, gamma=0.0001, kernel=linear..........................\n",
      "[CV 5/5; 6/16] END C=10, gamma=0.001, kernel=linear;, score=0.970 total time=   0.3s\n",
      "[CV 4/5; 6/16] END C=10, gamma=0.001, kernel=linear;, score=0.984 total time=   0.3s\n",
      "[CV 2/5; 8/16] START C=10, gamma=0.0001, kernel=linear..........................\n",
      "[CV 3/5; 8/16] START C=10, gamma=0.0001, kernel=linear..........................\n",
      "[CV 1/5; 7/16] END C=10, gamma=0.0001, kernel=rbf;, score=0.867 total time=   0.4s\n",
      "[CV 4/5; 8/16] START C=10, gamma=0.0001, kernel=linear..........................\n",
      "[CV 2/5; 7/16] END C=10, gamma=0.0001, kernel=rbf;, score=0.867 total time=   0.4s\n",
      "[CV 5/5; 8/16] START C=10, gamma=0.0001, kernel=linear..........................\n",
      "[CV 3/5; 7/16] END C=10, gamma=0.0001, kernel=rbf;, score=0.867 total time=   0.3s\n",
      "[CV 1/5; 9/16] START C=100, gamma=0.001, kernel=rbf.............................\n",
      "[CV 4/5; 7/16] END C=10, gamma=0.0001, kernel=rbf;, score=0.867 total time=   0.4s\n",
      "[CV 2/5; 9/16] START C=100, gamma=0.001, kernel=rbf.............................\n",
      "[CV 1/5; 8/16] END C=10, gamma=0.0001, kernel=linear;, score=0.974 total time=   0.3s\n",
      "[CV 3/5; 9/16] START C=100, gamma=0.001, kernel=rbf.............................\n",
      "[CV 5/5; 7/16] END C=10, gamma=0.0001, kernel=rbf;, score=0.867 total time=   0.4s\n",
      "[CV 4/5; 9/16] START C=100, gamma=0.001, kernel=rbf.............................\n",
      "[CV 3/5; 8/16] END C=10, gamma=0.0001, kernel=linear;, score=0.976 total time=   0.3s\n",
      "[CV 2/5; 8/16] END C=10, gamma=0.0001, kernel=linear;, score=0.973 total time=   0.3s\n",
      "[CV 5/5; 9/16] START C=100, gamma=0.001, kernel=rbf.............................\n",
      "[CV 1/5; 10/16] START C=100, gamma=0.001, kernel=linear.........................\n",
      "[CV 4/5; 8/16] END C=10, gamma=0.0001, kernel=linear;, score=0.984 total time=   0.4s\n",
      "[CV 2/5; 10/16] START C=100, gamma=0.001, kernel=linear.........................\n",
      "[CV 5/5; 8/16] END C=10, gamma=0.0001, kernel=linear;, score=0.970 total time=   0.4s\n",
      "[CV 3/5; 10/16] START C=100, gamma=0.001, kernel=linear.........................\n",
      "[CV 1/5; 10/16] END C=100, gamma=0.001, kernel=linear;, score=0.970 total time=   0.4s\n",
      "[CV 4/5; 10/16] START C=100, gamma=0.001, kernel=linear.........................\n",
      "[CV 1/5; 9/16] END C=100, gamma=0.001, kernel=rbf;, score=0.949 total time=   0.5s\n",
      "[CV 5/5; 10/16] START C=100, gamma=0.001, kernel=linear.........................\n",
      "[CV 3/5; 9/16] END C=100, gamma=0.001, kernel=rbf;, score=0.944 total time=   0.5s\n",
      "[CV 1/5; 11/16] START C=100, gamma=0.0001, kernel=rbf...........................\n",
      "[CV 2/5; 9/16] END C=100, gamma=0.001, kernel=rbf;, score=0.941 total time=   0.5s\n",
      "[CV 2/5; 11/16] START C=100, gamma=0.0001, kernel=rbf...........................\n",
      "[CV 4/5; 9/16] END C=100, gamma=0.001, kernel=rbf;, score=0.961 total time=   0.5s\n",
      "[CV 3/5; 11/16] START C=100, gamma=0.0001, kernel=rbf...........................\n",
      "[CV 2/5; 10/16] END C=100, gamma=0.001, kernel=linear;, score=0.972 total time=   0.4s\n",
      "[CV 4/5; 11/16] START C=100, gamma=0.0001, kernel=rbf...........................\n",
      "[CV 3/5; 10/16] END C=100, gamma=0.001, kernel=linear;, score=0.976 total time=   0.4s\n",
      "[CV 5/5; 11/16] START C=100, gamma=0.0001, kernel=rbf...........................\n",
      "[CV 5/5; 9/16] END C=100, gamma=0.001, kernel=rbf;, score=0.953 total time=   0.6s\n",
      "[CV 1/5; 12/16] START C=100, gamma=0.0001, kernel=linear........................\n",
      "[CV 4/5; 10/16] END C=100, gamma=0.001, kernel=linear;, score=0.979 total time=   0.3s\n",
      "[CV 2/5; 12/16] START C=100, gamma=0.0001, kernel=linear........................\n",
      "[CV 5/5; 10/16] END C=100, gamma=0.001, kernel=linear;, score=0.966 total time=   0.3s\n",
      "[CV 3/5; 12/16] START C=100, gamma=0.0001, kernel=linear........................\n",
      "[CV 1/5; 12/16] END C=100, gamma=0.0001, kernel=linear;, score=0.970 total time=   0.3s\n",
      "[CV 4/5; 12/16] START C=100, gamma=0.0001, kernel=linear........................\n",
      "[CV 1/5; 11/16] END C=100, gamma=0.0001, kernel=rbf;, score=0.867 total time=   0.4s\n",
      "[CV 5/5; 12/16] START C=100, gamma=0.0001, kernel=linear........................\n",
      "[CV 2/5; 11/16] END C=100, gamma=0.0001, kernel=rbf;, score=0.867 total time=   0.4s\n",
      "[CV 1/5; 13/16] START C=1000, gamma=0.001, kernel=rbf...........................\n",
      "[CV 3/5; 11/16] END C=100, gamma=0.0001, kernel=rbf;, score=0.867 total time=   0.4s\n",
      "[CV 2/5; 13/16] START C=1000, gamma=0.001, kernel=rbf...........................\n",
      "[CV 4/5; 11/16] END C=100, gamma=0.0001, kernel=rbf;, score=0.867 total time=   0.5s\n",
      "[CV 3/5; 13/16] START C=1000, gamma=0.001, kernel=rbf...........................\n",
      "[CV 2/5; 12/16] END C=100, gamma=0.0001, kernel=linear;, score=0.972 total time=   0.3s\n",
      "[CV 4/5; 13/16] START C=1000, gamma=0.001, kernel=rbf...........................\n",
      "[CV 3/5; 12/16] END C=100, gamma=0.0001, kernel=linear;, score=0.976 total time=   0.3s\n",
      "[CV 5/5; 13/16] START C=1000, gamma=0.001, kernel=rbf...........................\n",
      "[CV 5/5; 11/16] END C=100, gamma=0.0001, kernel=rbf;, score=0.867 total time=   0.5s\n",
      "[CV 1/5; 14/16] START C=1000, gamma=0.001, kernel=linear........................\n",
      "[CV 4/5; 12/16] END C=100, gamma=0.0001, kernel=linear;, score=0.979 total time=   0.3s\n",
      "[CV 2/5; 14/16] START C=1000, gamma=0.001, kernel=linear........................\n",
      "[CV 5/5; 12/16] END C=100, gamma=0.0001, kernel=linear;, score=0.966 total time=   0.3s\n",
      "[CV 3/5; 14/16] START C=1000, gamma=0.001, kernel=linear........................\n",
      "[CV 1/5; 13/16] END C=1000, gamma=0.001, kernel=rbf;, score=0.980 total time=   0.4s\n",
      "[CV 4/5; 14/16] START C=1000, gamma=0.001, kernel=linear........................\n",
      "[CV 3/5; 13/16] END C=1000, gamma=0.001, kernel=rbf;, score=0.976 total time=   0.4s\n",
      "[CV 2/5; 13/16] END C=1000, gamma=0.001, kernel=rbf;, score=0.973 total time=   0.4s\n",
      "[CV 5/5; 14/16] START C=1000, gamma=0.001, kernel=linear........................\n",
      "[CV 1/5; 15/16] START C=1000, gamma=0.0001, kernel=rbf..........................\n",
      "[CV 1/5; 14/16] END C=1000, gamma=0.001, kernel=linear;, score=0.970 total time=   0.3s\n",
      "[CV 2/5; 15/16] START C=1000, gamma=0.0001, kernel=rbf..........................\n",
      "[CV 4/5; 13/16] END C=1000, gamma=0.001, kernel=rbf;, score=0.987 total time=   0.4s\n",
      "[CV 3/5; 15/16] START C=1000, gamma=0.0001, kernel=rbf..........................\n",
      "[CV 5/5; 13/16] END C=1000, gamma=0.001, kernel=rbf;, score=0.970 total time=   0.4s\n",
      "[CV 4/5; 15/16] START C=1000, gamma=0.0001, kernel=rbf..........................\n",
      "[CV 2/5; 14/16] END C=1000, gamma=0.001, kernel=linear;, score=0.972 total time=   0.3s\n",
      "[CV 5/5; 15/16] START C=1000, gamma=0.0001, kernel=rbf..........................\n",
      "[CV 3/5; 14/16] END C=1000, gamma=0.001, kernel=linear;, score=0.976 total time=   0.4s\n",
      "[CV 1/5; 16/16] START C=1000, gamma=0.0001, kernel=linear.......................\n",
      "[CV 4/5; 14/16] END C=1000, gamma=0.001, kernel=linear;, score=0.979 total time=   0.4s\n",
      "[CV 2/5; 16/16] START C=1000, gamma=0.0001, kernel=linear.......................\n",
      "[CV 5/5; 14/16] END C=1000, gamma=0.001, kernel=linear;, score=0.966 total time=   0.4s\n",
      "[CV 3/5; 16/16] START C=1000, gamma=0.0001, kernel=linear.......................\n",
      "[CV 1/5; 15/16] END C=1000, gamma=0.0001, kernel=rbf;, score=0.949 total time=   0.5s\n",
      "[CV 4/5; 16/16] START C=1000, gamma=0.0001, kernel=linear.......................\n",
      "[CV 2/5; 15/16] END C=1000, gamma=0.0001, kernel=rbf;, score=0.942 total time=   0.6s\n",
      "[CV 5/5; 16/16] START C=1000, gamma=0.0001, kernel=linear.......................\n",
      "[CV 1/5; 16/16] END C=1000, gamma=0.0001, kernel=linear;, score=0.970 total time=   0.4s\n",
      "[CV 3/5; 15/16] END C=1000, gamma=0.0001, kernel=rbf;, score=0.944 total time=   0.5s\n",
      "[CV 4/5; 15/16] END C=1000, gamma=0.0001, kernel=rbf;, score=0.961 total time=   0.5s\n",
      "[CV 2/5; 16/16] END C=1000, gamma=0.0001, kernel=linear;, score=0.972 total time=   0.3s\n",
      "[CV 3/5; 16/16] END C=1000, gamma=0.0001, kernel=linear;, score=0.976 total time=   0.3s\n",
      "[CV 5/5; 15/16] END C=1000, gamma=0.0001, kernel=rbf;, score=0.953 total time=   0.5s\n",
      "[CV 4/5; 16/16] END C=1000, gamma=0.0001, kernel=linear;, score=0.979 total time=   0.2s\n",
      "[CV 5/5; 16/16] END C=1000, gamma=0.0001, kernel=linear;, score=0.966 total time=   0.2s\n",
      "done in 6.828s\n",
      "\n"
     ]
    }
   ],
   "source": [
    "#instantiates the grid search\n",
    "# using the svc model and the parameters above defined\n",
    "grid_search = GridSearchCV(svc, parameters, n_jobs=-1, verbose=10)\n",
    "\n",
    "print(\"Performing grid search...\")\n",
    "print(\"parameters:\")\n",
    "print(parameters)\n",
    "t0 = time()\n",
    "# Starts the grid search\n",
    "grid_search.fit(X_train_tfidf, y_train)\n",
    "# Prints the required time\n",
    "print(\"done in %0.3fs\" % (time() - t0))\n",
    "print()"
   ]
  },
  {
   "cell_type": "markdown",
   "id": "1120c0e2",
   "metadata": {},
   "source": [
    "Printing the best score and configuration"
   ]
  },
  {
   "cell_type": "code",
   "execution_count": 9,
   "id": "5d4a9710",
   "metadata": {},
   "outputs": [
    {
     "name": "stdout",
     "output_type": "stream",
     "text": [
      "Best score: 0.977\n",
      "Best parameters set:\n",
      "\tC: 1000\n",
      "\tgamma: 0.001\n",
      "\tkernel: 'rbf'\n"
     ]
    }
   ],
   "source": [
    "# Prints the best score\n",
    "print(\"Best score: %0.3f\" % grid_search.best_score_)\n",
    "print(\"Best parameters set:\")\n",
    "best_parameters = grid_search.best_estimator_.get_params()\n",
    "for param_name in sorted(parameters.keys()):\n",
    "    print(\"\\t%s: %r\" % (param_name, best_parameters[param_name]))"
   ]
  },
  {
   "cell_type": "markdown",
   "id": "57b76e93-f19d-47ad-a37c-294aa6dee534",
   "metadata": {},
   "source": [
    "Instantiating and using the best model"
   ]
  },
  {
   "cell_type": "code",
   "execution_count": 10,
   "id": "1b6574f1-f368-4099-ab10-3549cb391c29",
   "metadata": {
    "tags": []
   },
   "outputs": [
    {
     "name": "stdout",
     "output_type": "stream",
     "text": [
      "col_0   ham  spam\n",
      "type             \n",
      "ham    1573    10\n",
      "spam     20   232\n",
      "              precision    recall  f1-score   support\n",
      "\n",
      "         ham       0.99      0.99      0.99      1583\n",
      "        spam       0.96      0.92      0.94       252\n",
      "\n",
      "    accuracy                           0.98      1835\n",
      "   macro avg       0.97      0.96      0.96      1835\n",
      "weighted avg       0.98      0.98      0.98      1835\n",
      "\n"
     ]
    }
   ],
   "source": [
    "#instantiating the model using the grid search best estimator\n",
    "clf= grid_search.best_estimator_\n",
    "clf.fit(X_train_tfidf, y_train)\n",
    "\n",
    "#indexing the test set\n",
    "X_new_counts = count_vect.transform(X_test)\n",
    "X_new_tfidf = tfidf_transformer.transform(X_new_counts)\n",
    "\n",
    "#performing the actual prediction\n",
    "predicted = clf.predict(X_new_tfidf)\n",
    "\n",
    "from sklearn import metrics\n",
    "print(pd.crosstab(y_test,predicted))\n",
    "print(metrics.classification_report(y_test, predicted))\n"
   ]
  }
 ],
 "metadata": {
  "kernelspec": {
   "display_name": "Python 3 (ipykernel)",
   "language": "python",
   "name": "python3"
  },
  "language_info": {
   "codemirror_mode": {
    "name": "ipython",
    "version": 3
   },
   "file_extension": ".py",
   "mimetype": "text/x-python",
   "name": "python",
   "nbconvert_exporter": "python",
   "pygments_lexer": "ipython3",
   "version": "3.11.5"
  }
 },
 "nbformat": 4,
 "nbformat_minor": 5
}