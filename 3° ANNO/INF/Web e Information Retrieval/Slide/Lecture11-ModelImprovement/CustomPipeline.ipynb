{
 "cells": [
  {
   "cell_type": "markdown",
   "id": "4f23f81b-bc5f-45a2-9f92-3c4a4edba515",
   "metadata": {},
   "source": [
    "# ML Pipeline with Customized Preprocessing Function"
   ]
  },
  {
   "cell_type": "markdown",
   "id": "5d4ca07e-9ebd-4538-a858-961208635382",
   "metadata": {},
   "source": [
    "Importing the dataset"
   ]
  },
  {
   "cell_type": "code",
   "execution_count": 1,
   "id": "4da432ea-440e-465d-a8a6-75adda81d8da",
   "metadata": {
    "tags": []
   },
   "outputs": [
    {
     "name": "stdout",
     "output_type": "stream",
     "text": [
      "   type                                               text\n",
      "0   ham  Hope you are having a good week. Just checking in\n",
      "1   ham                            K..give back my thanks.\n",
      "2   ham        Am also doing in cbe only. But have to pay.\n",
      "3  spam  complimentary 4 STAR Ibiza Holiday or £10,000 ...\n",
      "4  spam  okmail: Dear Dave this is your final notice to...\n",
      "Shape: (5559, 2) \n",
      "\n"
     ]
    }
   ],
   "source": [
    "import pandas as pd\n",
    "from nltk.corpus import stopwords\n",
    "import gensim\n",
    "import numpy as np\n",
    "\n",
    "\n",
    "dataset=pd.read_csv(\"sms_spam.csv\")\n",
    "\n",
    "print(dataset.head())\n",
    "print (\"Shape:\", dataset.shape, '\\n')"
   ]
  },
  {
   "cell_type": "markdown",
   "id": "dad401ac-e944-43e1-8923-d8266aaa6a02",
   "metadata": {},
   "source": [
    "Defining the class PreprocessTransformer"
   ]
  },
  {
   "cell_type": "code",
   "execution_count": 2,
   "id": "b1d52a1a-4062-49bb-bfce-16234df64cc3",
   "metadata": {
    "tags": []
   },
   "outputs": [],
   "source": [
    "from sklearn.base import BaseEstimator,TransformerMixin\n",
    "\n",
    "class PreprocessTransformer(BaseEstimator,TransformerMixin):\n",
    "    def __init__(self,stop=True,stripNum=True,minSize=3,stemming=True):\n",
    "        self.stop=stop\n",
    "        self.stripNum=stripNum\n",
    "        self.minSize=minSize\n",
    "        self.stemming=stemming\n",
    "    def fit(self,x, y=None):\n",
    "        return self\n",
    "    def transform(self,x, y=None):\n",
    "        xc=x.copy()\n",
    "        xc = xc.map(self.transformText)\n",
    "        return xc\n",
    "    def transformText(self,text):\n",
    "        stops = set(stopwords.words(\"english\"))\n",
    "        # Convert text to lowercase\n",
    "        text = text.lower()\n",
    "        # Strip multiple whitespaces\n",
    "        text = gensim.corpora.textcorpus.strip_multiple_whitespaces(text)\n",
    "        if self.stop:\n",
    "            # Removing all the stopwords\n",
    "            filtered_words = [word for word in text.split() if word not in stops]\n",
    "            # Preprocessed text after stop words removal\n",
    "            text = \" \".join(filtered_words)\n",
    "        # Remove the punctuation\n",
    "        text = gensim.parsing.preprocessing.strip_punctuation(text)\n",
    "        if self.stripNum:\n",
    "            # Strip all the numerics\n",
    "            text = gensim.parsing.preprocessing.strip_numeric(text)\n",
    "        if self.minSize>0:\n",
    "            # Removing all the words with less than 3 characters\n",
    "            text = gensim.parsing.preprocessing.strip_short(text, minsize=self.minSize)\n",
    "        # Strip multiple whitespaces\n",
    "        text = gensim.corpora.textcorpus.strip_multiple_whitespaces(text)\n",
    "        # Stemming\n",
    "        if self.stemming:\n",
    "            text=gensim.parsing.preprocessing.stem_text(text)\n",
    "        return text"
   ]
  },
  {
   "cell_type": "markdown",
   "id": "e54c2c02-a7e1-4530-8a32-13b190dd13fc",
   "metadata": {},
   "source": [
    "Creating training and test set"
   ]
  },
  {
   "cell_type": "code",
   "execution_count": 3,
   "id": "4989bb87-87e3-48a0-a366-b33e257ea733",
   "metadata": {
    "tags": []
   },
   "outputs": [
    {
     "name": "stdout",
     "output_type": "stream",
     "text": [
      "Training Sample Size: 3724   Test Sample Size: 1835\n"
     ]
    }
   ],
   "source": [
    "## Split the data\n",
    "from sklearn.model_selection import train_test_split\n",
    "\n",
    "#separate the test set\n",
    "X_train, X_test, y_train, y_test = train_test_split(dataset['text'], dataset['type'],\n",
    "                                                    test_size=0.33, random_state=10)\n",
    "print (\"Training Sample Size:\", len(X_train), ' ', \"Test Sample Size:\" ,len(X_test))"
   ]
  },
  {
   "cell_type": "markdown",
   "id": "28ced4b4-1b78-47dc-8a8e-e6b96aac274a",
   "metadata": {},
   "source": [
    "Creating the pipeline"
   ]
  },
  {
   "cell_type": "code",
   "execution_count": 4,
   "id": "d612bddf-29eb-4470-9e35-5dc3f1a90ce2",
   "metadata": {
    "tags": []
   },
   "outputs": [],
   "source": [
    "from sklearn.feature_extraction.text import CountVectorizer\n",
    "from sklearn.feature_extraction.text import TfidfTransformer\n",
    "from sklearn.feature_selection import SelectPercentile\n",
    "from sklearn.feature_selection import chi2\n",
    "from sklearn.pipeline import Pipeline\n",
    "from sklearn import svm\n",
    "\n",
    "# defines the steps of the pipeline, each with\n",
    "# a name and the model object\n",
    "clf = Pipeline(\n",
    "    [\n",
    "        (\"prep\", PreprocessTransformer()),\n",
    "        (\"vect\", CountVectorizer()),\n",
    "        (\"tfidf\", TfidfTransformer()),\n",
    "        (\"selector\",SelectPercentile(score_func=chi2, percentile=30)),\n",
    "        (\"clf\", svm.SVC(kernel=\"rbf\",C=1000, gamma=0.0001)),\n",
    "    ]\n",
    ")"
   ]
  },
  {
   "cell_type": "markdown",
   "id": "e812d33b",
   "metadata": {},
   "source": [
    "Fitting and predicting"
   ]
  },
  {
   "cell_type": "code",
   "execution_count": 5,
   "id": "2a10640b",
   "metadata": {},
   "outputs": [
    {
     "name": "stdout",
     "output_type": "stream",
     "text": [
      "col_0   ham  spam\n",
      "type             \n",
      "ham    1577     6\n",
      "spam     63   189\n",
      "              precision    recall  f1-score   support\n",
      "\n",
      "         ham       0.96      1.00      0.98      1583\n",
      "        spam       0.97      0.75      0.85       252\n",
      "\n",
      "    accuracy                           0.96      1835\n",
      "   macro avg       0.97      0.87      0.91      1835\n",
      "weighted avg       0.96      0.96      0.96      1835\n",
      "\n"
     ]
    }
   ],
   "source": [
    "clf.fit(X_train, y_train)\n",
    "\n",
    "#performing the actual prediction\n",
    "predicted = clf.predict(X_test)\n",
    "\n",
    "from sklearn import metrics\n",
    "print(pd.crosstab(y_test,predicted))\n",
    "print(metrics.classification_report(y_test, predicted))"
   ]
  }
 ],
 "metadata": {
  "kernelspec": {
   "display_name": "Python 3 (ipykernel)",
   "language": "python",
   "name": "python3"
  },
  "language_info": {
   "codemirror_mode": {
    "name": "ipython",
    "version": 3
   },
   "file_extension": ".py",
   "mimetype": "text/x-python",
   "name": "python",
   "nbconvert_exporter": "python",
   "pygments_lexer": "ipython3",
   "version": "3.11.5"
  }
 },
 "nbformat": 4,
 "nbformat_minor": 5
}
