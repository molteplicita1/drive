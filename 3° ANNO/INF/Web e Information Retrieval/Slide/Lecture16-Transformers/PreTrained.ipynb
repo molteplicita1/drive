{
 "cells": [
  {
   "cell_type": "markdown",
   "id": "790e6ab0-031b-4fd9-ab98-86868538287e",
   "metadata": {},
   "source": [
    "# Inference without any pre-training"
   ]
  },
  {
   "cell_type": "markdown",
   "id": "17a82d0f",
   "metadata": {},
   "source": [
    "Loading t5 base"
   ]
  },
  {
   "cell_type": "code",
   "execution_count": 2,
   "id": "22e7e5fd-daa3-406b-b006-d80a156cb1da",
   "metadata": {
    "tags": []
   },
   "outputs": [],
   "source": [
    "checkpoint = \"t5-base\"\n",
    "from transformers import AutoModelForSeq2SeqLM, Seq2SeqTrainingArguments, Seq2SeqTrainer\n",
    "from transformers import AutoTokenizer\n",
    "\n",
    "tokenizer = AutoTokenizer.from_pretrained(checkpoint)\n",
    "model = AutoModelForSeq2SeqLM.from_pretrained(checkpoint)"
   ]
  },
  {
   "cell_type": "markdown",
   "id": "c47c2794",
   "metadata": {},
   "source": [
    "Translation"
   ]
  },
  {
   "cell_type": "code",
   "execution_count": 3,
   "id": "b0e45b31-4f98-45f4-be7c-1f272996e401",
   "metadata": {
    "tags": []
   },
   "outputs": [],
   "source": [
    "text=\"The cat is on the table\"\n",
    "prefix=\"translate English to French: \"\n",
    "text=prefix+text"
   ]
  },
  {
   "cell_type": "code",
   "execution_count": 4,
   "id": "f7b02991-2da5-4924-8308-9bb6c07bf2ca",
   "metadata": {
    "tags": []
   },
   "outputs": [],
   "source": [
    "inputs = tokenizer(text, return_tensors=\"pt\").input_ids"
   ]
  },
  {
   "cell_type": "code",
   "execution_count": 5,
   "id": "bab02d16-c812-4371-bd8d-34947e29b5d0",
   "metadata": {
    "tags": []
   },
   "outputs": [
    {
     "data": {
      "text/plain": [
       "'Le chat est sur la table'"
      ]
     },
     "execution_count": 5,
     "metadata": {},
     "output_type": "execute_result"
    }
   ],
   "source": [
    "outputs = model.generate(inputs, max_new_tokens=20, do_sample=False)\n",
    "tokenizer.decode(outputs[0], skip_special_tokens=True)"
   ]
  },
  {
   "cell_type": "markdown",
   "id": "23bf59ae",
   "metadata": {},
   "source": [
    "Summarization"
   ]
  },
  {
   "cell_type": "code",
   "execution_count": 7,
   "id": "b9d7fe0f-df9a-48d5-beb2-65c97e4e9409",
   "metadata": {},
   "outputs": [
    {
     "data": {
      "text/plain": [
       "\"google's transformer is a deep learning architecture based on the multi-head attention mechanism \""
      ]
     },
     "execution_count": 7,
     "metadata": {},
     "output_type": "execute_result"
    }
   ],
   "source": [
    "with open(\"abstract.txt\") as f:\n",
    "    text = f.read()\n",
    "    prefix=\"summarize: \"\n",
    "    text=prefix+text\n",
    "inputs = tokenizer(text, return_tensors=\"pt\").input_ids\n",
    "outputs = model.generate(inputs, max_new_tokens=20, do_sample=False)\n",
    "tokenizer.decode(outputs[0], skip_special_tokens=True)\n"
   ]
  }
 ],
 "metadata": {
  "kernelspec": {
   "display_name": "Python 3 (ipykernel)",
   "language": "python",
   "name": "python3"
  },
  "language_info": {
   "codemirror_mode": {
    "name": "ipython",
    "version": 3
   },
   "file_extension": ".py",
   "mimetype": "text/x-python",
   "name": "python",
   "nbconvert_exporter": "python",
   "pygments_lexer": "ipython3",
   "version": "3.11.5"
  }
 },
 "nbformat": 4,
 "nbformat_minor": 5
}