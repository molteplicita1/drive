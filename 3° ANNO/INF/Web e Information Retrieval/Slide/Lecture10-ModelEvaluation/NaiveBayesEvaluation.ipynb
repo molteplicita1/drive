{
 "cells": [
  {
   "cell_type": "markdown",
   "id": "4f23f81b-bc5f-45a2-9f92-3c4a4edba515",
   "metadata": {},
   "source": [
    "# Naive Bayes classifier"
   ]
  },
  {
   "cell_type": "markdown",
   "id": "5d4ca07e-9ebd-4538-a858-961208635382",
   "metadata": {},
   "source": [
    "Importing the dataset"
   ]
  },
  {
   "cell_type": "code",
   "execution_count": 1,
   "id": "4da432ea-440e-465d-a8a6-75adda81d8da",
   "metadata": {
    "tags": []
   },
   "outputs": [
    {
     "name": "stdout",
     "output_type": "stream",
     "text": [
      "   type                                               text\n",
      "0   ham  Hope you are having a good week. Just checking in\n",
      "1   ham                            K..give back my thanks.\n",
      "2   ham        Am also doing in cbe only. But have to pay.\n",
      "3  spam  complimentary 4 STAR Ibiza Holiday or £10,000 ...\n",
      "4  spam  okmail: Dear Dave this is your final notice to...\n",
      "Shape: (5559, 2) \n",
      "\n"
     ]
    }
   ],
   "source": [
    "import pandas as pd\n",
    "from nltk.corpus import stopwords\n",
    "import gensim\n",
    "import numpy as np\n",
    "\n",
    "\n",
    "dataset=pd.read_csv(\"sms_spam.csv\")\n",
    "\n",
    "print(dataset.head())\n",
    "print (\"Shape:\", dataset.shape, '\\n')"
   ]
  },
  {
   "cell_type": "markdown",
   "id": "dad401ac-e944-43e1-8923-d8266aaa6a02",
   "metadata": {},
   "source": [
    "Preprocessing function"
   ]
  },
  {
   "cell_type": "code",
   "execution_count": 2,
   "id": "b1d52a1a-4062-49bb-bfce-16234df64cc3",
   "metadata": {
    "tags": []
   },
   "outputs": [],
   "source": [
    "def transformText(text):\n",
    "    stops = set(stopwords.words(\"english\"))\n",
    "    # Convert text to lowercase\n",
    "    text = text.lower()\n",
    "    # Strip multiple whitespaces\n",
    "    text = gensim.corpora.textcorpus.strip_multiple_whitespaces(text)\n",
    "    # Removing all the stopwords\n",
    "    filtered_words = [word for word in text.split() if word not in stops]\n",
    "    # Preprocessed text after stop words removal\n",
    "    text = \" \".join(filtered_words)\n",
    "    # Remove the punctuation\n",
    "    text = gensim.parsing.preprocessing.strip_punctuation(text)\n",
    "    # Strip all the numerics\n",
    "    text = gensim.parsing.preprocessing.strip_numeric(text)\n",
    "    # Removing all the words with < 3 characters\n",
    "    text = gensim.parsing.preprocessing.strip_short(text, minsize=3)\n",
    "    # Strip multiple whitespaces\n",
    "    text = gensim.corpora.textcorpus.strip_multiple_whitespaces(text)\n",
    "    # Stemming\n",
    "    return gensim.parsing.preprocessing.stem_text(text)"
   ]
  },
  {
   "cell_type": "markdown",
   "id": "e54c2c02-a7e1-4530-8a32-13b190dd13fc",
   "metadata": {},
   "source": [
    "Preprocessing"
   ]
  },
  {
   "cell_type": "code",
   "execution_count": 3,
   "id": "2a85e358-7ae1-4d41-9a10-6f19c101a709",
   "metadata": {
    "tags": []
   },
   "outputs": [
    {
     "data": {
      "text/plain": [
       "'complimentari star ibiza holidai cash need urgent collect landlin lose out boxskwpppm'"
      ]
     },
     "execution_count": 3,
     "metadata": {},
     "output_type": "execute_result"
    }
   ],
   "source": [
    "transformText(dataset['text'][3])"
   ]
  },
  {
   "cell_type": "code",
   "execution_count": 4,
   "id": "f24a3518-0949-4b60-b370-62c1bbb29f36",
   "metadata": {
    "tags": []
   },
   "outputs": [
    {
     "name": "stdout",
     "output_type": "stream",
     "text": [
      "0                                 hope good week check\n",
      "1                                      give back thank\n",
      "2                                    also cbe onli pai\n",
      "3    complimentari star ibiza holidai cash need urg...\n",
      "4    okmail dear dave final notic collect tenerif h...\n",
      "Name: text, dtype: object\n"
     ]
    }
   ],
   "source": [
    "#applies transformText to all rows of text\n",
    "dataset['text'] = dataset['text'].map(transformText)\n",
    "print(dataset['text'].head())"
   ]
  },
  {
   "cell_type": "markdown",
   "id": "39e54308-cd7c-466a-9828-821b1026deb1",
   "metadata": {},
   "source": [
    "Creating training and test set"
   ]
  },
  {
   "cell_type": "code",
   "execution_count": 5,
   "id": "4989bb87-87e3-48a0-a366-b33e257ea733",
   "metadata": {
    "tags": []
   },
   "outputs": [
    {
     "name": "stdout",
     "output_type": "stream",
     "text": [
      "Training Sample Size: 3724   Test Sample Size: 1835\n"
     ]
    }
   ],
   "source": [
    "## Split the data\n",
    "from sklearn.model_selection import train_test_split\n",
    "X_train, X_test, y_train, y_test = train_test_split(dataset['text'], dataset['type'],\n",
    "                                                    test_size=0.33, random_state=10)\n",
    "\n",
    "print (\"Training Sample Size:\", len(X_train), ' ', \"Test Sample Size:\" ,len(X_test))"
   ]
  },
  {
   "cell_type": "markdown",
   "id": "28ced4b4-1b78-47dc-8a8e-e6b96aac274a",
   "metadata": {},
   "source": [
    "Creating a tf-idf model"
   ]
  },
  {
   "cell_type": "code",
   "execution_count": 6,
   "id": "d612bddf-29eb-4470-9e35-5dc3f1a90ce2",
   "metadata": {
    "tags": []
   },
   "outputs": [
    {
     "name": "stdout",
     "output_type": "stream",
     "text": [
      "Dimension of TF-IDF vector : (3724, 5056)\n"
     ]
    }
   ],
   "source": [
    "#Build the counting corpus\n",
    "from sklearn.feature_extraction.text import CountVectorizer\n",
    "count_vect = CountVectorizer()\n",
    "X_train_counts = count_vect.fit_transform(X_train)\n",
    "\n",
    "## Get the TF-IDF vector representation of the data\n",
    "from sklearn.feature_extraction.text import TfidfTransformer\n",
    "tfidf_transformer = TfidfTransformer()\n",
    "X_train_tfidf = tfidf_transformer.fit_transform(X_train_counts)\n",
    "print ('Dimension of TF-IDF vector :' , X_train_tfidf.shape)"
   ]
  },
  {
   "cell_type": "markdown",
   "id": "9007df80-8d5e-42e1-9c90-433b58dc4061",
   "metadata": {},
   "source": [
    "Creating the classifier"
   ]
  },
  {
   "cell_type": "code",
   "execution_count": 7,
   "id": "5d172ecf-0634-4366-81a0-483dffed5e78",
   "metadata": {
    "tags": []
   },
   "outputs": [
    {
     "name": "stderr",
     "output_type": "stream",
     "text": [
      "/Library/Frameworks/Python.framework/Versions/3.10/lib/python3.10/site-packages/sklearn/naive_bayes.py:629: FutureWarning: The default value for `force_alpha` will change to `True` in 1.4. To suppress this warning, manually set the value of `force_alpha`.\n",
      "  warnings.warn(\n",
      "/Library/Frameworks/Python.framework/Versions/3.10/lib/python3.10/site-packages/sklearn/naive_bayes.py:635: UserWarning: alpha too small will result in numeric errors, setting alpha = 1.0e-10. Use `force_alpha=True` to keep alpha unchanged.\n",
      "  warnings.warn(\n"
     ]
    },
    {
     "data": {
      "text/html": [
       "<style>#sk-container-id-1 {color: black;background-color: white;}#sk-container-id-1 pre{padding: 0;}#sk-container-id-1 div.sk-toggleable {background-color: white;}#sk-container-id-1 label.sk-toggleable__label {cursor: pointer;display: block;width: 100%;margin-bottom: 0;padding: 0.3em;box-sizing: border-box;text-align: center;}#sk-container-id-1 label.sk-toggleable__label-arrow:before {content: \"▸\";float: left;margin-right: 0.25em;color: #696969;}#sk-container-id-1 label.sk-toggleable__label-arrow:hover:before {color: black;}#sk-container-id-1 div.sk-estimator:hover label.sk-toggleable__label-arrow:before {color: black;}#sk-container-id-1 div.sk-toggleable__content {max-height: 0;max-width: 0;overflow: hidden;text-align: left;background-color: #f0f8ff;}#sk-container-id-1 div.sk-toggleable__content pre {margin: 0.2em;color: black;border-radius: 0.25em;background-color: #f0f8ff;}#sk-container-id-1 input.sk-toggleable__control:checked~div.sk-toggleable__content {max-height: 200px;max-width: 100%;overflow: auto;}#sk-container-id-1 input.sk-toggleable__control:checked~label.sk-toggleable__label-arrow:before {content: \"▾\";}#sk-container-id-1 div.sk-estimator input.sk-toggleable__control:checked~label.sk-toggleable__label {background-color: #d4ebff;}#sk-container-id-1 div.sk-label input.sk-toggleable__control:checked~label.sk-toggleable__label {background-color: #d4ebff;}#sk-container-id-1 input.sk-hidden--visually {border: 0;clip: rect(1px 1px 1px 1px);clip: rect(1px, 1px, 1px, 1px);height: 1px;margin: -1px;overflow: hidden;padding: 0;position: absolute;width: 1px;}#sk-container-id-1 div.sk-estimator {font-family: monospace;background-color: #f0f8ff;border: 1px dotted black;border-radius: 0.25em;box-sizing: border-box;margin-bottom: 0.5em;}#sk-container-id-1 div.sk-estimator:hover {background-color: #d4ebff;}#sk-container-id-1 div.sk-parallel-item::after {content: \"\";width: 100%;border-bottom: 1px solid gray;flex-grow: 1;}#sk-container-id-1 div.sk-label:hover label.sk-toggleable__label {background-color: #d4ebff;}#sk-container-id-1 div.sk-serial::before {content: \"\";position: absolute;border-left: 1px solid gray;box-sizing: border-box;top: 0;bottom: 0;left: 50%;z-index: 0;}#sk-container-id-1 div.sk-serial {display: flex;flex-direction: column;align-items: center;background-color: white;padding-right: 0.2em;padding-left: 0.2em;position: relative;}#sk-container-id-1 div.sk-item {position: relative;z-index: 1;}#sk-container-id-1 div.sk-parallel {display: flex;align-items: stretch;justify-content: center;background-color: white;position: relative;}#sk-container-id-1 div.sk-item::before, #sk-container-id-1 div.sk-parallel-item::before {content: \"\";position: absolute;border-left: 1px solid gray;box-sizing: border-box;top: 0;bottom: 0;left: 50%;z-index: -1;}#sk-container-id-1 div.sk-parallel-item {display: flex;flex-direction: column;z-index: 1;position: relative;background-color: white;}#sk-container-id-1 div.sk-parallel-item:first-child::after {align-self: flex-end;width: 50%;}#sk-container-id-1 div.sk-parallel-item:last-child::after {align-self: flex-start;width: 50%;}#sk-container-id-1 div.sk-parallel-item:only-child::after {width: 0;}#sk-container-id-1 div.sk-dashed-wrapped {border: 1px dashed gray;margin: 0 0.4em 0.5em 0.4em;box-sizing: border-box;padding-bottom: 0.4em;background-color: white;}#sk-container-id-1 div.sk-label label {font-family: monospace;font-weight: bold;display: inline-block;line-height: 1.2em;}#sk-container-id-1 div.sk-label-container {text-align: center;}#sk-container-id-1 div.sk-container {/* jupyter's `normalize.less` sets `[hidden] { display: none; }` but bootstrap.min.css set `[hidden] { display: none !important; }` so we also need the `!important` here to be able to override the default hidden behavior on the sphinx rendered scikit-learn.org. See: https://github.com/scikit-learn/scikit-learn/issues/21755 */display: inline-block !important;position: relative;}#sk-container-id-1 div.sk-text-repr-fallback {display: none;}</style><div id=\"sk-container-id-1\" class=\"sk-top-container\"><div class=\"sk-text-repr-fallback\"><pre>MultinomialNB(alpha=0)</pre><b>In a Jupyter environment, please rerun this cell to show the HTML representation or trust the notebook. <br />On GitHub, the HTML representation is unable to render, please try loading this page with nbviewer.org.</b></div><div class=\"sk-container\" hidden><div class=\"sk-item\"><div class=\"sk-estimator sk-toggleable\"><input class=\"sk-toggleable__control sk-hidden--visually\" id=\"sk-estimator-id-1\" type=\"checkbox\" checked><label for=\"sk-estimator-id-1\" class=\"sk-toggleable__label sk-toggleable__label-arrow\">MultinomialNB</label><div class=\"sk-toggleable__content\"><pre>MultinomialNB(alpha=0)</pre></div></div></div></div></div>"
      ],
      "text/plain": [
       "MultinomialNB(alpha=0)"
      ]
     },
     "execution_count": 7,
     "metadata": {},
     "output_type": "execute_result"
    }
   ],
   "source": [
    "#Creating the classifier\n",
    "#MultinomialNB accepts weights instead of Boolean\n",
    "from sklearn.naive_bayes import MultinomialNB\n",
    "clf = MultinomialNB(alpha=0)\n",
    "# the fit() function of any classifier takes the features from the \n",
    "# training set X_train_tfidf and the labels from the training set\n",
    "# y_train\n",
    "clf.fit(X_train_tfidf, y_train)"
   ]
  },
  {
   "cell_type": "markdown",
   "id": "57b76e93-f19d-47ad-a37c-294aa6dee534",
   "metadata": {},
   "source": [
    "Foldig the test set into the train space"
   ]
  },
  {
   "cell_type": "code",
   "execution_count": 8,
   "id": "1b6574f1-f368-4099-ab10-3549cb391c29",
   "metadata": {
    "tags": []
   },
   "outputs": [],
   "source": [
    "#indexing the test set\n",
    "X_new_counts = count_vect.transform(X_test)\n",
    "X_new_tfidf = tfidf_transformer.transform(X_new_counts)"
   ]
  },
  {
   "cell_type": "markdown",
   "id": "167e0d7f-6cd1-4f71-a4dd-978100dc9e6f",
   "metadata": {},
   "source": [
    "Performing the actual prediction"
   ]
  },
  {
   "cell_type": "code",
   "execution_count": 9,
   "id": "7fbc8679-88a5-4678-adef-3610e46dfe5b",
   "metadata": {
    "tags": []
   },
   "outputs": [],
   "source": [
    "#performing the actual prediction\n",
    "predicted = clf.predict(X_new_tfidf)"
   ]
  },
  {
   "cell_type": "markdown",
   "id": "9aee8415-bd91-408d-b334-5e01547e5122",
   "metadata": {},
   "source": [
    "Showing the results"
   ]
  },
  {
   "cell_type": "code",
   "execution_count": 10,
   "id": "91c66841-524d-42de-a845-fb3bcf38b5e6",
   "metadata": {
    "tags": []
   },
   "outputs": [
    {
     "data": {
      "text/plain": [
       "2469    True\n",
       "4107    True\n",
       "1722    True\n",
       "3428    True\n",
       "4747    True\n",
       "        ... \n",
       "1778    True\n",
       "2330    True\n",
       "2803    True\n",
       "3335    True\n",
       "4704    True\n",
       "Name: type, Length: 1835, dtype: bool"
      ]
     },
     "execution_count": 10,
     "metadata": {},
     "output_type": "execute_result"
    }
   ],
   "source": [
    "predicted==y_test"
   ]
  },
  {
   "cell_type": "code",
   "execution_count": 11,
   "id": "179ed99d-af0e-4414-bb3d-6c31d1b4a069",
   "metadata": {
    "tags": []
   },
   "outputs": [
    {
     "name": "stdout",
     "output_type": "stream",
     "text": [
      "['ham' 'ham' 'ham' ... 'spam' 'ham' 'spam']\n",
      "0.9771117166212534\n"
     ]
    }
   ],
   "source": [
    "print(predicted)\n",
    "print(np.mean(predicted==y_test))"
   ]
  },
  {
   "cell_type": "markdown",
   "id": "43084c1a-be94-47e6-a114-0f9a3cabb3cf",
   "metadata": {},
   "source": [
    "## Evaluation metrics"
   ]
  },
  {
   "cell_type": "markdown",
   "id": "b0c0e772-aabb-444e-8e36-e4174e785490",
   "metadata": {},
   "source": [
    "Print prediction probability"
   ]
  },
  {
   "cell_type": "code",
   "execution_count": 12,
   "id": "02f1f950-d74c-467e-85c6-51e2d46800da",
   "metadata": {},
   "outputs": [
    {
     "name": "stdout",
     "output_type": "stream",
     "text": [
      "[[1.00000000e+00 8.97003800e-17]\n",
      " [1.00000000e+00 5.61486651e-25]\n",
      " [1.00000000e+00 3.60030011e-21]\n",
      " ...\n",
      " [4.26818329e-17 1.00000000e+00]\n",
      " [1.00000000e+00 8.42052022e-13]\n",
      " [4.46283152e-22 1.00000000e+00]]\n"
     ]
    }
   ],
   "source": [
    "predictedProb = clf.predict_proba(X_new_tfidf)\n",
    "print(predictedProb)"
   ]
  },
  {
   "cell_type": "markdown",
   "id": "1e1b0a4c-a638-4782-9158-2dee19d271d3",
   "metadata": {},
   "source": [
    "Print confusion matrix"
   ]
  },
  {
   "cell_type": "code",
   "execution_count": 13,
   "id": "31c91c2a-e17e-43c2-bfbc-85e6a2a0cbc2",
   "metadata": {
    "tags": []
   },
   "outputs": [
    {
     "name": "stdout",
     "output_type": "stream",
     "text": [
      "[[1568   15]\n",
      " [  27  225]]\n"
     ]
    }
   ],
   "source": [
    "from sklearn import metrics\n",
    "print(metrics.confusion_matrix(y_test,predicted))"
   ]
  },
  {
   "cell_type": "markdown",
   "id": "f343bb43-33c7-44ba-87ad-1edfb45f8af5",
   "metadata": {},
   "source": [
    "Better confusion matrix..."
   ]
  },
  {
   "cell_type": "code",
   "execution_count": 14,
   "id": "6e1e360b-2ce1-4513-a839-267748154a68",
   "metadata": {
    "tags": []
   },
   "outputs": [
    {
     "name": "stdout",
     "output_type": "stream",
     "text": [
      "col_0   ham  spam\n",
      "type             \n",
      "ham    1568    15\n",
      "spam     27   225\n"
     ]
    }
   ],
   "source": [
    "import pandas as pd\n",
    "print(pd.crosstab(y_test,predicted))"
   ]
  },
  {
   "cell_type": "markdown",
   "id": "a229832c-0b46-48cc-a6fa-12067c3dc3d6",
   "metadata": {},
   "source": [
    "Accuracy"
   ]
  },
  {
   "cell_type": "code",
   "execution_count": 15,
   "id": "4704475d-943f-4fd7-8001-046acc5f4aa1",
   "metadata": {
    "tags": []
   },
   "outputs": [
    {
     "name": "stdout",
     "output_type": "stream",
     "text": [
      "0.9771117166212534\n"
     ]
    }
   ],
   "source": [
    "from sklearn import metrics\n",
    "print(metrics.accuracy_score(y_test,predicted))"
   ]
  },
  {
   "cell_type": "markdown",
   "id": "1d18f63f-f739-4b03-b667-e96bde0d6277",
   "metadata": {},
   "source": [
    "Error rate"
   ]
  },
  {
   "cell_type": "code",
   "execution_count": 16,
   "id": "c9263372-80f0-4d20-a6cb-5ec023c7c670",
   "metadata": {
    "tags": []
   },
   "outputs": [
    {
     "name": "stdout",
     "output_type": "stream",
     "text": [
      "0.0228882833787466\n"
     ]
    }
   ],
   "source": [
    "print(1-metrics.accuracy_score(y_test,predicted))"
   ]
  },
  {
   "cell_type": "markdown",
   "id": "3b15c2cd-dffe-4325-84cc-b09cb7f0d7fa",
   "metadata": {},
   "source": [
    "Recall"
   ]
  },
  {
   "cell_type": "code",
   "execution_count": 17,
   "id": "3c92e36b-2a52-4f9c-b039-294c0e5a0409",
   "metadata": {
    "tags": []
   },
   "outputs": [
    {
     "name": "stdout",
     "output_type": "stream",
     "text": [
      "[0.99052432 0.89285714]\n"
     ]
    }
   ],
   "source": [
    "print(metrics.recall_score(y_test, predicted,average=None))"
   ]
  },
  {
   "cell_type": "markdown",
   "id": "54a0323e-f832-4bcf-b2bf-52e37d6a0ab3",
   "metadata": {},
   "source": [
    "Precision"
   ]
  },
  {
   "cell_type": "code",
   "execution_count": 18,
   "id": "635b3352-a29e-4a17-8768-a8324a8a6202",
   "metadata": {
    "tags": []
   },
   "outputs": [
    {
     "name": "stdout",
     "output_type": "stream",
     "text": [
      "[0.9830721 0.9375   ]\n"
     ]
    }
   ],
   "source": [
    "print(metrics.precision_score(y_test,predicted,average=None))"
   ]
  },
  {
   "cell_type": "markdown",
   "id": "c4c4eab7-2300-4699-9eed-a895c6c3524a",
   "metadata": {
    "tags": []
   },
   "source": [
    "Micro-averaged metrics"
   ]
  },
  {
   "cell_type": "code",
   "execution_count": 19,
   "id": "a695b82a-be83-4157-b215-b09ad7585839",
   "metadata": {
    "tags": []
   },
   "outputs": [
    {
     "name": "stdout",
     "output_type": "stream",
     "text": [
      "0.9771117166212534\n",
      "0.9771117166212534\n"
     ]
    }
   ],
   "source": [
    "print(metrics.recall_score(y_test, predicted,average='micro'))\n",
    "print(metrics.precision_score(y_test,predicted,average='micro'))"
   ]
  },
  {
   "cell_type": "markdown",
   "id": "0a5e4738-a50a-42d9-95f7-10b816540df0",
   "metadata": {},
   "source": [
    "Macro-averaged metrics"
   ]
  },
  {
   "cell_type": "code",
   "execution_count": 20,
   "id": "362726d1-6fd0-4ff4-bcf2-6b38a10bd527",
   "metadata": {
    "tags": []
   },
   "outputs": [
    {
     "name": "stdout",
     "output_type": "stream",
     "text": [
      "0.941690731883404\n",
      "0.9602860501567398\n"
     ]
    }
   ],
   "source": [
    "print(metrics.recall_score(y_test, predicted,average='macro'))\n",
    "print(metrics.precision_score(y_test,predicted,average='macro'))"
   ]
  },
  {
   "cell_type": "markdown",
   "id": "294fdf68-dd72-456f-937f-26b53da9a784",
   "metadata": {},
   "source": [
    "Complete report"
   ]
  },
  {
   "cell_type": "code",
   "execution_count": 21,
   "id": "6bbdb1f7-2bed-421d-b2f6-bf1e331a7ded",
   "metadata": {
    "tags": []
   },
   "outputs": [
    {
     "name": "stdout",
     "output_type": "stream",
     "text": [
      "              precision    recall  f1-score   support\n",
      "\n",
      "         ham       0.98      0.99      0.99      1583\n",
      "        spam       0.94      0.89      0.91       252\n",
      "\n",
      "    accuracy                           0.98      1835\n",
      "   macro avg       0.96      0.94      0.95      1835\n",
      "weighted avg       0.98      0.98      0.98      1835\n",
      "\n"
     ]
    }
   ],
   "source": [
    "print(metrics.classification_report(y_test, predicted))"
   ]
  },
  {
   "cell_type": "markdown",
   "id": "1a3109b6-27b8-4faa-b1a2-65e323168c5e",
   "metadata": {},
   "source": [
    "F1-score"
   ]
  },
  {
   "cell_type": "code",
   "execution_count": 22,
   "id": "7684307a-8468-49b7-82cc-2986d69aba54",
   "metadata": {
    "tags": []
   },
   "outputs": [
    {
     "name": "stdout",
     "output_type": "stream",
     "text": [
      "[0.98678414 0.91463415]\n"
     ]
    }
   ],
   "source": [
    "print(metrics.f1_score(y_test, predicted,average=None))"
   ]
  },
  {
   "cell_type": "markdown",
   "id": "53a02478-ae5c-4e8b-a7f2-2e5f35fa6c16",
   "metadata": {},
   "source": [
    "ROC curve"
   ]
  },
  {
   "cell_type": "code",
   "execution_count": 23,
   "id": "0ee1263d-0a54-4ca7-bada-47f2788a0ffd",
   "metadata": {
    "tags": []
   },
   "outputs": [
    {
     "name": "stdout",
     "output_type": "stream",
     "text": [
      "2469    False\n",
      "4107    False\n",
      "1722    False\n",
      "3428     True\n",
      "4747    False\n",
      "        ...  \n",
      "1778    False\n",
      "2330    False\n",
      "2803     True\n",
      "3335    False\n",
      "4704     True\n",
      "Name: type, Length: 1835, dtype: bool\n",
      "[8.97003800e-17 5.61486651e-25 3.60030011e-21 ... 1.00000000e+00\n",
      " 8.42052022e-13 1.00000000e+00]\n"
     ]
    },
    {
     "data": {
      "image/png": "[encoded data removed]",
      "text/plain": [
       "<Figure size 640x480 with 1 Axes>"
      ]
     },
     "metadata": {},
     "output_type": "display_data"
    }
   ],
   "source": [
    "import matplotlib.pyplot as plt\n",
    "predicted_prob = clf.predict_proba(X_new_tfidf)\n",
    "print(y_test=='spam')\n",
    "print(predicted_prob[:,1])\n",
    "fpr,tpr,thresholds=metrics.roc_curve(y_test=='spam',predicted_prob[:,1])\n",
    "roc_auc=metrics.auc(fpr, tpr)\n",
    "plt.plot(\n",
    "    fpr,\n",
    "    tpr,\n",
    "    color=\"red\",\n",
    "    label=\"ROC curve (area = %0.2f)\" % roc_auc,\n",
    ")\n",
    "plt.plot([0, 1], [0, 1], color=\"navy\", linestyle=\"--\")\n",
    "plt.xlim([0.0, 1.0])\n",
    "plt.ylim([0.0, 1.0])\n",
    "plt.xlabel(\"False Positive Rate\")\n",
    "plt.ylabel(\"True Positive Rate\")\n",
    "plt.title(\"Receiver operating characteristic example\")\n",
    "plt.legend(loc=\"lower right\")\n",
    "plt.show()\n"
   ]
  },
  {
   "cell_type": "code",
   "execution_count": 32,
   "id": "517164a3-152d-438f-b514-b3d1b4b9c08a",
   "metadata": {
    "tags": []
   },
   "outputs": [
    {
     "data": {
      "text/plain": [
       "array([2.00000000e+00, 1.00000000e+00, 1.00000000e+00, 1.00000000e+00,\n",
       "       1.00000000e+00, 1.00000000e+00, 1.00000000e+00, 1.00000000e+00,\n",
       "       1.00000000e+00, 1.00000000e+00, 1.00000000e+00, 1.00000000e+00,\n",
       "       1.00000000e+00, 1.00000000e+00, 1.00000000e+00, 1.00000000e+00,\n",
       "       1.00000000e+00, 1.00000000e+00, 9.99999996e-01, 9.99999996e-01,\n",
       "       9.99999933e-01, 9.99999877e-01, 9.99998668e-01, 9.99997462e-01,\n",
       "       9.99802316e-01, 9.99780741e-01, 9.92159598e-01, 9.90383248e-01,\n",
       "       9.86161380e-01, 9.85805465e-01, 9.85077012e-01, 9.80449489e-01,\n",
       "       9.69840541e-01, 9.59231045e-01, 9.56510782e-01, 9.41571802e-01,\n",
       "       9.39861797e-01, 8.92723328e-01, 8.02879291e-01, 7.90278926e-01,\n",
       "       7.83138188e-01, 7.18308052e-01, 7.03148394e-01, 6.71367121e-01,\n",
       "       6.34298770e-01, 6.06564860e-01, 5.63387189e-01, 5.32879120e-01,\n",
       "       5.07743590e-01, 4.92399866e-01, 4.87630802e-01, 4.24890684e-01,\n",
       "       4.19070385e-01, 3.06098278e-01, 2.84800861e-01, 1.43623929e-01,\n",
       "       1.37459937e-01, 1.32921590e-01, 8.62317014e-02, 8.58440473e-02,\n",
       "       8.51575357e-02, 8.41042542e-02, 6.39238311e-02, 6.33175369e-02,\n",
       "       5.92060320e-02, 5.86744187e-02, 4.78631653e-02, 4.71299709e-02,\n",
       "       4.28893544e-02, 4.27569859e-02, 2.83850711e-02, 2.65927960e-02,\n",
       "       2.06690876e-02, 2.04861108e-02, 1.59596936e-02, 1.56272876e-02,\n",
       "       1.51259249e-02, 1.44522686e-02, 6.26384450e-03, 5.49063731e-03,\n",
       "       4.47697956e-03, 3.75133985e-03, 2.56609712e-03, 2.55057845e-03,\n",
       "       2.12098278e-03, 8.29430419e-04, 5.19807870e-07, 5.11901848e-07,\n",
       "       1.83104331e-07, 1.73445670e-07, 1.29416057e-07, 1.28610092e-07,\n",
       "       2.63491533e-08, 2.53918565e-08, 2.24100877e-08, 2.23733004e-08,\n",
       "       1.23743517e-08, 1.22776652e-08, 4.26656652e-09, 4.24661341e-09,\n",
       "       4.17338082e-09, 4.15288033e-09, 3.65025178e-09, 3.57370149e-09,\n",
       "       4.16953079e-10, 4.03054923e-10, 3.79281122e-10, 3.71278897e-10,\n",
       "       3.30027413e-10, 3.29278200e-10, 3.08210090e-10, 2.99254874e-10,\n",
       "       1.80523466e-10, 1.64114364e-10, 4.85464133e-11, 4.56510766e-11,\n",
       "       3.98380669e-11, 3.93643286e-11, 1.93157052e-11, 1.92162864e-11,\n",
       "       1.66987615e-11, 1.66264372e-11, 1.52304179e-11, 1.48803434e-11,\n",
       "       8.72696337e-12, 8.66064912e-12, 7.47120127e-12, 7.29934714e-12,\n",
       "       6.64502886e-12, 6.63181062e-12, 6.48171062e-12, 6.33629230e-12,\n",
       "       6.33406303e-12, 2.78338932e-12, 2.74693007e-12, 2.19241119e-12,\n",
       "       2.12453919e-12, 1.98815546e-12, 1.95848758e-12, 9.58033903e-13,\n",
       "       9.51511439e-13, 1.25448619e-13, 1.22707995e-13, 1.07657795e-13,\n",
       "       1.03924595e-13, 8.99946011e-14, 8.41479583e-14, 6.54535299e-14,\n",
       "       5.87307771e-14, 2.43085560e-14, 2.42254443e-14, 2.25854272e-14,\n",
       "       2.18167516e-14, 4.25724593e-15, 4.23782790e-15, 3.29199079e-15,\n",
       "       3.28414323e-15, 1.04745307e-15, 1.04499717e-15, 2.69667880e-16,\n",
       "       2.42018913e-16, 6.46911718e-18, 6.22120279e-18, 6.17002281e-18,\n",
       "       6.02386662e-18, 1.29647212e-18, 1.26258789e-18, 4.13389662e-19,\n",
       "       3.92680630e-19, 1.78909101e-20, 1.76655471e-20, 1.20060800e-20,\n",
       "       1.19930261e-20, 3.60030011e-21, 3.36558906e-21, 2.61689776e-21,\n",
       "       2.24114599e-21, 1.55192986e-21, 1.36877926e-21, 9.43663154e-22,\n",
       "       9.20786734e-22, 1.49521730e-22, 1.47251750e-22, 6.13270949e-24,\n",
       "       5.19007690e-24, 4.72163386e-24, 4.42357604e-24, 4.59426042e-26,\n",
       "       3.49969810e-26, 3.01439849e-31, 2.66259791e-31, 2.28825209e-37])"
      ]
     },
     "execution_count": 32,
     "metadata": {},
     "output_type": "execute_result"
    }
   ],
   "source": [
    "thresholds"
   ]
  },
  {
   "cell_type": "markdown",
   "id": "c501525a-a215-4d1a-89d3-a2383ddcbef8",
   "metadata": {},
   "source": [
    "## K-fold validation"
   ]
  },
  {
   "cell_type": "markdown",
   "id": "f74c9b73-6f45-4a30-85d0-62b73fa9f964",
   "metadata": {},
   "source": [
    "Let's check how we have split training and test so far"
   ]
  },
  {
   "cell_type": "code",
   "execution_count": 24,
   "id": "fc3f1135-9e41-49df-ac94-7938fe894a4c",
   "metadata": {
    "tags": []
   },
   "outputs": [
    {
     "name": "stdout",
     "output_type": "stream",
     "text": [
      "ham     4812\n",
      "spam     747\n",
      "Name: type, dtype: int64\n"
     ]
    }
   ],
   "source": [
    "print(dataset['type'].value_counts())"
   ]
  },
  {
   "cell_type": "code",
   "execution_count": 25,
   "id": "b3a5b119-f4b3-4d88-8a7f-8565b65ec828",
   "metadata": {
    "tags": []
   },
   "outputs": [
    {
     "name": "stdout",
     "output_type": "stream",
     "text": [
      "ham     3229\n",
      "spam     495\n",
      "Name: type, dtype: int64\n"
     ]
    }
   ],
   "source": [
    "print(y_train.value_counts())"
   ]
  },
  {
   "cell_type": "code",
   "execution_count": 26,
   "id": "093d229a-ec49-4cbd-860b-adc55688a242",
   "metadata": {
    "tags": []
   },
   "outputs": [
    {
     "name": "stdout",
     "output_type": "stream",
     "text": [
      "Spam proportion in the dataset 0.13437668645439826\n",
      "Spam proportion in the training set 0.13292158968850698\n",
      "Spam proportion in the test set 0.13732970027247957\n"
     ]
    }
   ],
   "source": [
    "print(\"Spam proportion in the dataset\",dataset['type'].value_counts()['spam']/sum(dataset['type'].value_counts()))\n",
    "print(\"Spam proportion in the training set\",y_train.value_counts()['spam']/sum(y_train.value_counts()))\n",
    "print(\"Spam proportion in the test set\",y_test.value_counts()['spam']/sum(y_test.value_counts()))\n"
   ]
  },
  {
   "cell_type": "markdown",
   "id": "07d58c5e-07cd-4d74-981e-ccf8c877886f",
   "metadata": {},
   "source": [
    "Let's perform k-fold validation."
   ]
  },
  {
   "cell_type": "markdown",
   "id": "08d8ad3e-fcc3-404a-b8ae-ac2a4f8776db",
   "metadata": {},
   "source": [
    "First, we apply clean-up and indexing on the whole dataset, not just the training set:"
   ]
  },
  {
   "cell_type": "code",
   "execution_count": 27,
   "id": "4b26f800-4fda-488a-863c-3703e77c6462",
   "metadata": {
    "tags": []
   },
   "outputs": [],
   "source": [
    "#applies transformText to all rows of text\n",
    "dataset['text'] = dataset['text'].map(transformText)\n",
    "\n",
    "#Build the counting corpus\n",
    "from sklearn.feature_extraction.text import CountVectorizer\n",
    "count_vect = CountVectorizer()\n",
    "X_counts = count_vect.fit_transform(dataset['text'])\n",
    "y=dataset['type']\n",
    "\n",
    "from sklearn.feature_extraction.text import TfidfTransformer\n",
    "tfidf_transformer = TfidfTransformer()\n",
    "X = tfidf_transformer.fit_transform(X_counts)\n",
    "\n",
    "from sklearn.naive_bayes import MultinomialNB\n",
    "clf = MultinomialNB()\n"
   ]
  },
  {
   "cell_type": "markdown",
   "id": "d94825b9-80ec-4ea0-8af3-c2dd36c8a87d",
   "metadata": {},
   "source": [
    "Now, let's perform the cross-validation accumulating the results on each fold:"
   ]
  },
  {
   "cell_type": "code",
   "execution_count": 33,
   "id": "3bfddbef-a182-457e-85aa-7a11a34a6497",
   "metadata": {
    "tags": []
   },
   "outputs": [
    {
     "name": "stdout",
     "output_type": "stream",
     "text": [
      "The test index of fold 1 is  [  0   1   2   3   4   5   6   7   8   9  10  11  12  13  14  15  16  17\n",
      "  18  19  20  21  22  23  24  25  26  27  28  29  30  31  32  33  34  35\n",
      "  36  37  38  39  40  41  42  43  44  45  46  47  48  49  50  51  52  53\n",
      "  54  55  56  57  58  59  60  61  62  63  64  65  66  67  68  69  70  71\n",
      "  72  73  74  75  76  77  78  79  80  81  82  83  84  85  86  87  88  89\n",
      "  90  91  92  93  94  95  96  97  98  99 100 101 102 103 104 105 106 107\n",
      " 108 109 110 111 112 113 114 115 116 117 118 119 120 121 122 123 124 125\n",
      " 126 127 128 129 130 131 132 133 134 135 136 137 138 139 140 141 142 143\n",
      " 144 145 146 147 148 149 150 151 152 153 154 155 156 157 158 159 160 161\n",
      " 162 163 164 165 166 167 168 169 170 171 172 173 174 175 176 177 178 179\n",
      " 180 181 182 183 184 185 186 187 188 189 190 191 192 193 194 195 196 197\n",
      " 198 199 200 201 202 203 204 205 206 207 208 209 210 211 212 213 214 215\n",
      " 216 217 218 219 220 221 222 223 224 225 226 227 228 229 230 231 232 233\n",
      " 234 235 236 237 238 239 240 241 242 243 244 245 246 247 248 249 250 251\n",
      " 252 253 254 255 256 257 258 259 260 261 262 263 264 265 266 267 268 269\n",
      " 270 271 272 273 274 275 276 277 278 279 280 281 282 283 284 285 286 287\n",
      " 288 289 290 291 292 293 294 295 296 297 298 299 300 301 302 303 304 305\n",
      " 306 307 308 309 310 311 312 313 314 315 316 317 318 319 320 321 322 323\n",
      " 324 325 326 327 328 329 330 331 332 333 334 335 336 337 338 339 340 341\n",
      " 342 343 344 345 346 347 348 349 350 351 352 353 354 355 356 357 358 359\n",
      " 360 361 362 363 364 365 366 367 368 369 370 371 372 373 374 375 376 377\n",
      " 378 379 380 381 382 383 384 385 386 387 388 389 390 391 392 393 394 395\n",
      " 396 397 398 399 400 401 402 403 404 405 406 407 408 409 410 411 412 413\n",
      " 414 415 416 417 418 419 420 421 422 423 424 425 426 427 428 429 430 431\n",
      " 432 433 434 435 436 437 438 439 440 441 442 443 444 445 446 447 448 449\n",
      " 450 451 452 453 454 455 456 457 458 459 460 461 462 463 464 465 466 467\n",
      " 468 469 470 471 472 473 474 475 476 477 478 479 480 481 482 483 484 485\n",
      " 486 487 488 489 490 491 492 493 494 495 496 497 498 499 500 501 502 503\n",
      " 504 505 506 507 508 509 510 511 512 513 514 515 516 517 518 519 520 521\n",
      " 522 523 524 525 526 527 528 529 530 531 532 533 534 535 536 537 538 539\n",
      " 540 541 542 543 544 545 546 547 548 549 550 551 552 553 554 555]\n",
      "The test index of fold 2 is  [ 556  557  558  559  560  561  562  563  564  565  566  567  568  569\n",
      "  570  571  572  573  574  575  576  577  578  579  580  581  582  583\n",
      "  584  585  586  587  588  589  590  591  592  593  594  595  596  597\n",
      "  598  599  600  601  602  603  604  605  606  607  608  609  610  611\n",
      "  612  613  614  615  616  617  618  619  620  621  622  623  624  625\n",
      "  626  627  628  629  630  631  632  633  634  635  636  637  638  639\n",
      "  640  641  642  643  644  645  646  647  648  649  650  651  652  653\n",
      "  654  655  656  657  658  659  660  661  662  663  664  665  666  667\n",
      "  668  669  670  671  672  673  674  675  676  677  678  679  680  681\n",
      "  682  683  684  685  686  687  688  689  690  691  692  693  694  695\n",
      "  696  697  698  699  700  701  702  703  704  705  706  707  708  709\n",
      "  710  711  712  713  714  715  716  717  718  719  720  721  722  723\n",
      "  724  725  726  727  728  729  730  731  732  733  734  735  736  737\n",
      "  738  739  740  741  742  743  744  745  746  747  748  749  750  751\n",
      "  752  753  754  755  756  757  758  759  760  761  762  763  764  765\n",
      "  766  767  768  769  770  771  772  773  774  775  776  777  778  779\n",
      "  780  781  782  783  784  785  786  787  788  789  790  791  792  793\n",
      "  794  795  796  797  798  799  800  801  802  803  804  805  806  807\n",
      "  808  809  810  811  812  813  814  815  816  817  818  819  820  821\n",
      "  822  823  824  825  826  827  828  829  830  831  832  833  834  835\n",
      "  836  837  838  839  840  841  842  843  844  845  846  847  848  849\n",
      "  850  851  852  853  854  855  856  857  858  859  860  861  862  863\n",
      "  864  865  866  867  868  869  870  871  872  873  874  875  876  877\n",
      "  878  879  880  881  882  883  884  885  886  887  888  889  890  891\n",
      "  892  893  894  895  896  897  898  899  900  901  902  903  904  905\n",
      "  906  907  908  909  910  911  912  913  914  915  916  917  918  919\n",
      "  920  921  922  923  924  925  926  927  928  929  930  931  932  933\n",
      "  934  935  936  937  938  939  940  941  942  943  944  945  946  947\n",
      "  948  949  950  951  952  953  954  955  956  957  958  959  960  961\n",
      "  962  963  964  965  966  967  968  969  970  971  972  973  974  975\n",
      "  976  977  978  979  980  981  982  983  984  985  986  987  988  989\n",
      "  990  991  992  993  994  995  996  997  998  999 1000 1001 1002 1003\n",
      " 1004 1005 1006 1007 1008 1009 1010 1011 1012 1013 1014 1015 1016 1017\n",
      " 1018 1019 1020 1021 1022 1023 1024 1025 1026 1027 1028 1029 1030 1031\n",
      " 1032 1033 1034 1035 1036 1037 1038 1039 1040 1041 1042 1043 1044 1045\n",
      " 1046 1047 1048 1049 1050 1051 1052 1053 1054 1055 1056 1057 1058 1059\n",
      " 1060 1061 1062 1063 1064 1065 1066 1067 1068 1069 1070 1071 1072 1073\n",
      " 1074 1075 1076 1077 1078 1079 1080 1081 1082 1083 1084 1085 1086 1087\n",
      " 1088 1089 1090 1091 1092 1093 1094 1095 1096 1097 1098 1099 1100 1101\n",
      " 1102 1103 1104 1105 1106 1107 1108 1109 1110 1111]\n",
      "The test index of fold 3 is  [1112 1113 1114 1115 1116 1117 1118 1119 1120 1121 1122 1123 1124 1125\n",
      " 1126 1127 1128 1129 1130 1131 1132 1133 1134 1135 1136 1137 1138 1139\n",
      " 1140 1141 1142 1143 1144 1145 1146 1147 1148 1149 1150 1151 1152 1153\n",
      " 1154 1155 1156 1157 1158 1159 1160 1161 1162 1163 1164 1165 1166 1167\n",
      " 1168 1169 1170 1171 1172 1173 1174 1175 1176 1177 1178 1179 1180 1181\n",
      " 1182 1183 1184 1185 1186 1187 1188 1189 1190 1191 1192 1193 1194 1195\n",
      " 1196 1197 1198 1199 1200 1201 1202 1203 1204 1205 1206 1207 1208 1209\n",
      " 1210 1211 1212 1213 1214 1215 1216 1217 1218 1219 1220 1221 1222 1223\n",
      " 1224 1225 1226 1227 1228 1229 1230 1231 1232 1233 1234 1235 1236 1237\n",
      " 1238 1239 1240 1241 1242 1243 1244 1245 1246 1247 1248 1249 1250 1251\n",
      " 1252 1253 1254 1255 1256 1257 1258 1259 1260 1261 1262 1263 1264 1265\n",
      " 1266 1267 1268 1269 1270 1271 1272 1273 1274 1275 1276 1277 1278 1279\n",
      " 1280 1281 1282 1283 1284 1285 1286 1287 1288 1289 1290 1291 1292 1293\n",
      " 1294 1295 1296 1297 1298 1299 1300 1301 1302 1303 1304 1305 1306 1307\n",
      " 1308 1309 1310 1311 1312 1313 1314 1315 1316 1317 1318 1319 1320 1321\n",
      " 1322 1323 1324 1325 1326 1327 1328 1329 1330 1331 1332 1333 1334 1335\n",
      " 1336 1337 1338 1339 1340 1341 1342 1343 1344 1345 1346 1347 1348 1349\n",
      " 1350 1351 1352 1353 1354 1355 1356 1357 1358 1359 1360 1361 1362 1363\n",
      " 1364 1365 1366 1367 1368 1369 1370 1371 1372 1373 1374 1375 1376 1377\n",
      " 1378 1379 1380 1381 1382 1383 1384 1385 1386 1387 1388 1389 1390 1391\n",
      " 1392 1393 1394 1395 1396 1397 1398 1399 1400 1401 1402 1403 1404 1405\n",
      " 1406 1407 1408 1409 1410 1411 1412 1413 1414 1415 1416 1417 1418 1419\n",
      " 1420 1421 1422 1423 1424 1425 1426 1427 1428 1429 1430 1431 1432 1433\n",
      " 1434 1435 1436 1437 1438 1439 1440 1441 1442 1443 1444 1445 1446 1447\n",
      " 1448 1449 1450 1451 1452 1453 1454 1455 1456 1457 1458 1459 1460 1461\n",
      " 1462 1463 1464 1465 1466 1467 1468 1469 1470 1471 1472 1473 1474 1475\n",
      " 1476 1477 1478 1479 1480 1481 1482 1483 1484 1485 1486 1487 1488 1489\n",
      " 1490 1491 1492 1493 1494 1495 1496 1497 1498 1499 1500 1501 1502 1503\n",
      " 1504 1505 1506 1507 1508 1509 1510 1511 1512 1513 1514 1515 1516 1517\n",
      " 1518 1519 1520 1521 1522 1523 1524 1525 1526 1527 1528 1529 1530 1531\n",
      " 1532 1533 1534 1535 1536 1537 1538 1539 1540 1541 1542 1543 1544 1545\n",
      " 1546 1547 1548 1549 1550 1551 1552 1553 1554 1555 1556 1557 1558 1559\n",
      " 1560 1561 1562 1563 1564 1565 1566 1567 1568 1569 1570 1571 1572 1573\n",
      " 1574 1575 1576 1577 1578 1579 1580 1581 1582 1583 1584 1585 1586 1587\n",
      " 1588 1589 1590 1591 1592 1593 1594 1595 1596 1597 1598 1599 1600 1601\n",
      " 1602 1603 1604 1605 1606 1607 1608 1609 1610 1611 1612 1613 1614 1615\n",
      " 1616 1617 1618 1619 1620 1621 1622 1623 1624 1625 1626 1627 1628 1629\n",
      " 1630 1631 1632 1633 1634 1635 1636 1637 1638 1639 1640 1641 1642 1643\n",
      " 1644 1645 1646 1647 1648 1649 1650 1651 1652 1653 1654 1655 1656 1657\n",
      " 1658 1659 1660 1661 1662 1663 1664 1665 1666 1667]\n",
      "The test index of fold 4 is  [1668 1669 1670 1671 1672 1673 1674 1675 1676 1677 1678 1679 1680 1681\n",
      " 1682 1683 1684 1685 1686 1687 1688 1689 1690 1691 1692 1693 1694 1695\n",
      " 1696 1697 1698 1699 1700 1701 1702 1703 1704 1705 1706 1707 1708 1709\n",
      " 1710 1711 1712 1713 1714 1715 1716 1717 1718 1719 1720 1721 1722 1723\n",
      " 1724 1725 1726 1727 1728 1729 1730 1731 1732 1733 1734 1735 1736 1737\n",
      " 1738 1739 1740 1741 1742 1743 1744 1745 1746 1747 1748 1749 1750 1751\n",
      " 1752 1753 1754 1755 1756 1757 1758 1759 1760 1761 1762 1763 1764 1765\n",
      " 1766 1767 1768 1769 1770 1771 1772 1773 1774 1775 1776 1777 1778 1779\n",
      " 1780 1781 1782 1783 1784 1785 1786 1787 1788 1789 1790 1791 1792 1793\n",
      " 1794 1795 1796 1797 1798 1799 1800 1801 1802 1803 1804 1805 1806 1807\n",
      " 1808 1809 1810 1811 1812 1813 1814 1815 1816 1817 1818 1819 1820 1821\n",
      " 1822 1823 1824 1825 1826 1827 1828 1829 1830 1831 1832 1833 1834 1835\n",
      " 1836 1837 1838 1839 1840 1841 1842 1843 1844 1845 1846 1847 1848 1849\n",
      " 1850 1851 1852 1853 1854 1855 1856 1857 1858 1859 1860 1861 1862 1863\n",
      " 1864 1865 1866 1867 1868 1869 1870 1871 1872 1873 1874 1875 1876 1877\n",
      " 1878 1879 1880 1881 1882 1883 1884 1885 1886 1887 1888 1889 1890 1891\n",
      " 1892 1893 1894 1895 1896 1897 1898 1899 1900 1901 1902 1903 1904 1905\n",
      " 1906 1907 1908 1909 1910 1911 1912 1913 1914 1915 1916 1917 1918 1919\n",
      " 1920 1921 1922 1923 1924 1925 1926 1927 1928 1929 1930 1931 1932 1933\n",
      " 1934 1935 1936 1937 1938 1939 1940 1941 1942 1943 1944 1945 1946 1947\n",
      " 1948 1949 1950 1951 1952 1953 1954 1955 1956 1957 1958 1959 1960 1961\n",
      " 1962 1963 1964 1965 1966 1967 1968 1969 1970 1971 1972 1973 1974 1975\n",
      " 1976 1977 1978 1979 1980 1981 1982 1983 1984 1985 1986 1987 1988 1989\n",
      " 1990 1991 1992 1993 1994 1995 1996 1997 1998 1999 2000 2001 2002 2003\n",
      " 2004 2005 2006 2007 2008 2009 2010 2011 2012 2013 2014 2015 2016 2017\n",
      " 2018 2019 2020 2021 2022 2023 2024 2025 2026 2027 2028 2029 2030 2031\n",
      " 2032 2033 2034 2035 2036 2037 2038 2039 2040 2041 2042 2043 2044 2045\n",
      " 2046 2047 2048 2049 2050 2051 2052 2053 2054 2055 2056 2057 2058 2059\n",
      " 2060 2061 2062 2063 2064 2065 2066 2067 2068 2069 2070 2071 2072 2073\n",
      " 2074 2075 2076 2077 2078 2079 2080 2081 2082 2083 2084 2085 2086 2087\n",
      " 2088 2089 2090 2091 2092 2093 2094 2095 2096 2097 2098 2099 2100 2101\n",
      " 2102 2103 2104 2105 2106 2107 2108 2109 2110 2111 2112 2113 2114 2115\n",
      " 2116 2117 2118 2119 2120 2121 2122 2123 2124 2125 2126 2127 2128 2129\n",
      " 2130 2131 2132 2133 2134 2135 2136 2137 2138 2139 2140 2141 2142 2143\n",
      " 2144 2145 2146 2147 2148 2149 2150 2151 2152 2153 2154 2155 2156 2157\n",
      " 2158 2159 2160 2161 2162 2163 2164 2165 2166 2167 2168 2169 2170 2171\n",
      " 2172 2173 2174 2175 2176 2177 2178 2179 2180 2181 2182 2183 2184 2185\n",
      " 2186 2187 2188 2189 2190 2191 2192 2193 2194 2195 2196 2197 2198 2199\n",
      " 2200 2201 2202 2203 2204 2205 2206 2207 2208 2209 2210 2211 2212 2213\n",
      " 2214 2215 2216 2217 2218 2219 2220 2221 2222 2223]\n",
      "The test index of fold 5 is  [2224 2225 2226 2227 2228 2229 2230 2231 2232 2233 2234 2235 2236 2237\n",
      " 2238 2239 2240 2241 2242 2243 2244 2245 2246 2247 2248 2249 2250 2251\n",
      " 2252 2253 2254 2255 2256 2257 2258 2259 2260 2261 2262 2263 2264 2265\n",
      " 2266 2267 2268 2269 2270 2271 2272 2273 2274 2275 2276 2277 2278 2279\n",
      " 2280 2281 2282 2283 2284 2285 2286 2287 2288 2289 2290 2291 2292 2293\n",
      " 2294 2295 2296 2297 2298 2299 2300 2301 2302 2303 2304 2305 2306 2307\n",
      " 2308 2309 2310 2311 2312 2313 2314 2315 2316 2317 2318 2319 2320 2321\n",
      " 2322 2323 2324 2325 2326 2327 2328 2329 2330 2331 2332 2333 2334 2335\n",
      " 2336 2337 2338 2339 2340 2341 2342 2343 2344 2345 2346 2347 2348 2349\n",
      " 2350 2351 2352 2353 2354 2355 2356 2357 2358 2359 2360 2361 2362 2363\n",
      " 2364 2365 2366 2367 2368 2369 2370 2371 2372 2373 2374 2375 2376 2377\n",
      " 2378 2379 2380 2381 2382 2383 2384 2385 2386 2387 2388 2389 2390 2391\n",
      " 2392 2393 2394 2395 2396 2397 2398 2399 2400 2401 2402 2403 2404 2405\n",
      " 2406 2407 2408 2409 2410 2411 2412 2413 2414 2415 2416 2417 2418 2419\n",
      " 2420 2421 2422 2423 2424 2425 2426 2427 2428 2429 2430 2431 2432 2433\n",
      " 2434 2435 2436 2437 2438 2439 2440 2441 2442 2443 2444 2445 2446 2447\n",
      " 2448 2449 2450 2451 2452 2453 2454 2455 2456 2457 2458 2459 2460 2461\n",
      " 2462 2463 2464 2465 2466 2467 2468 2469 2470 2471 2472 2473 2474 2475\n",
      " 2476 2477 2478 2479 2480 2481 2482 2483 2484 2485 2486 2487 2488 2489\n",
      " 2490 2491 2492 2493 2494 2495 2496 2497 2498 2499 2500 2501 2502 2503\n",
      " 2504 2505 2506 2507 2508 2509 2510 2511 2512 2513 2514 2515 2516 2517\n",
      " 2518 2519 2520 2521 2522 2523 2524 2525 2526 2527 2528 2529 2530 2531\n",
      " 2532 2533 2534 2535 2536 2537 2538 2539 2540 2541 2542 2543 2544 2545\n",
      " 2546 2547 2548 2549 2550 2551 2552 2553 2554 2555 2556 2557 2558 2559\n",
      " 2560 2561 2562 2563 2564 2565 2566 2567 2568 2569 2570 2571 2572 2573\n",
      " 2574 2575 2576 2577 2578 2579 2580 2581 2582 2583 2584 2585 2586 2587\n",
      " 2588 2589 2590 2591 2592 2593 2594 2595 2596 2597 2598 2599 2600 2601\n",
      " 2602 2603 2604 2605 2606 2607 2608 2609 2610 2611 2612 2613 2614 2615\n",
      " 2616 2617 2618 2619 2620 2621 2622 2623 2624 2625 2626 2627 2628 2629\n",
      " 2630 2631 2632 2633 2634 2635 2636 2637 2638 2639 2640 2641 2642 2643\n",
      " 2644 2645 2646 2647 2648 2649 2650 2651 2652 2653 2654 2655 2656 2657\n",
      " 2658 2659 2660 2661 2662 2663 2664 2665 2666 2667 2668 2669 2670 2671\n",
      " 2672 2673 2674 2675 2676 2677 2678 2679 2680 2681 2682 2683 2684 2685\n",
      " 2686 2687 2688 2689 2690 2691 2692 2693 2694 2695 2696 2697 2698 2699\n",
      " 2700 2701 2702 2703 2704 2705 2706 2707 2708 2709 2710 2711 2712 2713\n",
      " 2714 2715 2716 2717 2718 2719 2720 2721 2722 2723 2724 2725 2726 2727\n",
      " 2728 2729 2730 2731 2732 2733 2734 2735 2736 2737 2738 2739 2740 2741\n",
      " 2742 2743 2744 2745 2746 2747 2748 2749 2750 2751 2752 2753 2754 2755\n",
      " 2756 2757 2758 2759 2760 2761 2762 2763 2764 2765 2766 2767 2768 2769\n",
      " 2770 2771 2772 2773 2774 2775 2776 2777 2778 2779]\n",
      "The test index of fold 6 is  [2780 2781 2782 2783 2784 2785 2786 2787 2788 2789 2790 2791 2792 2793\n",
      " 2794 2795 2796 2797 2798 2799 2800 2801 2802 2803 2804 2805 2806 2807\n",
      " 2808 2809 2810 2811 2812 2813 2814 2815 2816 2817 2818 2819 2820 2821\n",
      " 2822 2823 2824 2825 2826 2827 2828 2829 2830 2831 2832 2833 2834 2835\n",
      " 2836 2837 2838 2839 2840 2841 2842 2843 2844 2845 2846 2847 2848 2849\n",
      " 2850 2851 2852 2853 2854 2855 2856 2857 2858 2859 2860 2861 2862 2863\n",
      " 2864 2865 2866 2867 2868 2869 2870 2871 2872 2873 2874 2875 2876 2877\n",
      " 2878 2879 2880 2881 2882 2883 2884 2885 2886 2887 2888 2889 2890 2891\n",
      " 2892 2893 2894 2895 2896 2897 2898 2899 2900 2901 2902 2903 2904 2905\n",
      " 2906 2907 2908 2909 2910 2911 2912 2913 2914 2915 2916 2917 2918 2919\n",
      " 2920 2921 2922 2923 2924 2925 2926 2927 2928 2929 2930 2931 2932 2933\n",
      " 2934 2935 2936 2937 2938 2939 2940 2941 2942 2943 2944 2945 2946 2947\n",
      " 2948 2949 2950 2951 2952 2953 2954 2955 2956 2957 2958 2959 2960 2961\n",
      " 2962 2963 2964 2965 2966 2967 2968 2969 2970 2971 2972 2973 2974 2975\n",
      " 2976 2977 2978 2979 2980 2981 2982 2983 2984 2985 2986 2987 2988 2989\n",
      " 2990 2991 2992 2993 2994 2995 2996 2997 2998 2999 3000 3001 3002 3003\n",
      " 3004 3005 3006 3007 3008 3009 3010 3011 3012 3013 3014 3015 3016 3017\n",
      " 3018 3019 3020 3021 3022 3023 3024 3025 3026 3027 3028 3029 3030 3031\n",
      " 3032 3033 3034 3035 3036 3037 3038 3039 3040 3041 3042 3043 3044 3045\n",
      " 3046 3047 3048 3049 3050 3051 3052 3053 3054 3055 3056 3057 3058 3059\n",
      " 3060 3061 3062 3063 3064 3065 3066 3067 3068 3069 3070 3071 3072 3073\n",
      " 3074 3075 3076 3077 3078 3079 3080 3081 3082 3083 3084 3085 3086 3087\n",
      " 3088 3089 3090 3091 3092 3093 3094 3095 3096 3097 3098 3099 3100 3101\n",
      " 3102 3103 3104 3105 3106 3107 3108 3109 3110 3111 3112 3113 3114 3115\n",
      " 3116 3117 3118 3119 3120 3121 3122 3123 3124 3125 3126 3127 3128 3129\n",
      " 3130 3131 3132 3133 3134 3135 3136 3137 3138 3139 3140 3141 3142 3143\n",
      " 3144 3145 3146 3147 3148 3149 3150 3151 3152 3153 3154 3155 3156 3157\n",
      " 3158 3159 3160 3161 3162 3163 3164 3165 3166 3167 3168 3169 3170 3171\n",
      " 3172 3173 3174 3175 3176 3177 3178 3179 3180 3181 3182 3183 3184 3185\n",
      " 3186 3187 3188 3189 3190 3191 3192 3193 3194 3195 3196 3197 3198 3199\n",
      " 3200 3201 3202 3203 3204 3205 3206 3207 3208 3209 3210 3211 3212 3213\n",
      " 3214 3215 3216 3217 3218 3219 3220 3221 3222 3223 3224 3225 3226 3227\n",
      " 3228 3229 3230 3231 3232 3233 3234 3235 3236 3237 3238 3239 3240 3241\n",
      " 3242 3243 3244 3245 3246 3247 3248 3249 3250 3251 3252 3253 3254 3255\n",
      " 3256 3257 3258 3259 3260 3261 3262 3263 3264 3265 3266 3267 3268 3269\n",
      " 3270 3271 3272 3273 3274 3275 3276 3277 3278 3279 3280 3281 3282 3283\n",
      " 3284 3285 3286 3287 3288 3289 3290 3291 3292 3293 3294 3295 3296 3297\n",
      " 3298 3299 3300 3301 3302 3303 3304 3305 3306 3307 3308 3309 3310 3311\n",
      " 3312 3313 3314 3315 3316 3317 3318 3319 3320 3321 3322 3323 3324 3325\n",
      " 3326 3327 3328 3329 3330 3331 3332 3333 3334 3335]\n",
      "The test index of fold 7 is  [3336 3337 3338 3339 3340 3341 3342 3343 3344 3345 3346 3347 3348 3349\n",
      " 3350 3351 3352 3353 3354 3355 3356 3357 3358 3359 3360 3361 3362 3363\n",
      " 3364 3365 3366 3367 3368 3369 3370 3371 3372 3373 3374 3375 3376 3377\n",
      " 3378 3379 3380 3381 3382 3383 3384 3385 3386 3387 3388 3389 3390 3391\n",
      " 3392 3393 3394 3395 3396 3397 3398 3399 3400 3401 3402 3403 3404 3405\n",
      " 3406 3407 3408 3409 3410 3411 3412 3413 3414 3415 3416 3417 3418 3419\n",
      " 3420 3421 3422 3423 3424 3425 3426 3427 3428 3429 3430 3431 3432 3433\n",
      " 3434 3435 3436 3437 3438 3439 3440 3441 3442 3443 3444 3445 3446 3447\n",
      " 3448 3449 3450 3451 3452 3453 3454 3455 3456 3457 3458 3459 3460 3461\n",
      " 3462 3463 3464 3465 3466 3467 3468 3469 3470 3471 3472 3473 3474 3475\n",
      " 3476 3477 3478 3479 3480 3481 3482 3483 3484 3485 3486 3487 3488 3489\n",
      " 3490 3491 3492 3493 3494 3495 3496 3497 3498 3499 3500 3501 3502 3503\n",
      " 3504 3505 3506 3507 3508 3509 3510 3511 3512 3513 3514 3515 3516 3517\n",
      " 3518 3519 3520 3521 3522 3523 3524 3525 3526 3527 3528 3529 3530 3531\n",
      " 3532 3533 3534 3535 3536 3537 3538 3539 3540 3541 3542 3543 3544 3545\n",
      " 3546 3547 3548 3549 3550 3551 3552 3553 3554 3555 3556 3557 3558 3559\n",
      " 3560 3561 3562 3563 3564 3565 3566 3567 3568 3569 3570 3571 3572 3573\n",
      " 3574 3575 3576 3577 3578 3579 3580 3581 3582 3583 3584 3585 3586 3587\n",
      " 3588 3589 3590 3591 3592 3593 3594 3595 3596 3597 3598 3599 3600 3601\n",
      " 3602 3603 3604 3605 3606 3607 3608 3609 3610 3611 3612 3613 3614 3615\n",
      " 3616 3617 3618 3619 3620 3621 3622 3623 3624 3625 3626 3627 3628 3629\n",
      " 3630 3631 3632 3633 3634 3635 3636 3637 3638 3639 3640 3641 3642 3643\n",
      " 3644 3645 3646 3647 3648 3649 3650 3651 3652 3653 3654 3655 3656 3657\n",
      " 3658 3659 3660 3661 3662 3663 3664 3665 3666 3667 3668 3669 3670 3671\n",
      " 3672 3673 3674 3675 3676 3677 3678 3679 3680 3681 3682 3683 3684 3685\n",
      " 3686 3687 3688 3689 3690 3691 3692 3693 3694 3695 3696 3697 3698 3699\n",
      " 3700 3701 3702 3703 3704 3705 3706 3707 3708 3709 3710 3711 3712 3713\n",
      " 3714 3715 3716 3717 3718 3719 3720 3721 3722 3723 3724 3725 3726 3727\n",
      " 3728 3729 3730 3731 3732 3733 3734 3735 3736 3737 3738 3739 3740 3741\n",
      " 3742 3743 3744 3745 3746 3747 3748 3749 3750 3751 3752 3753 3754 3755\n",
      " 3756 3757 3758 3759 3760 3761 3762 3763 3764 3765 3766 3767 3768 3769\n",
      " 3770 3771 3772 3773 3774 3775 3776 3777 3778 3779 3780 3781 3782 3783\n",
      " 3784 3785 3786 3787 3788 3789 3790 3791 3792 3793 3794 3795 3796 3797\n",
      " 3798 3799 3800 3801 3802 3803 3804 3805 3806 3807 3808 3809 3810 3811\n",
      " 3812 3813 3814 3815 3816 3817 3818 3819 3820 3821 3822 3823 3824 3825\n",
      " 3826 3827 3828 3829 3830 3831 3832 3833 3834 3835 3836 3837 3838 3839\n",
      " 3840 3841 3842 3843 3844 3845 3846 3847 3848 3849 3850 3851 3852 3853\n",
      " 3854 3855 3856 3857 3858 3859 3860 3861 3862 3863 3864 3865 3866 3867\n",
      " 3868 3869 3870 3871 3872 3873 3874 3875 3876 3877 3878 3879 3880 3881\n",
      " 3882 3883 3884 3885 3886 3887 3888 3889 3890 3891]\n",
      "The test index of fold 8 is  [3892 3893 3894 3895 3896 3897 3898 3899 3900 3901 3902 3903 3904 3905\n",
      " 3906 3907 3908 3909 3910 3911 3912 3913 3914 3915 3916 3917 3918 3919\n",
      " 3920 3921 3922 3923 3924 3925 3926 3927 3928 3929 3930 3931 3932 3933\n",
      " 3934 3935 3936 3937 3938 3939 3940 3941 3942 3943 3944 3945 3946 3947\n",
      " 3948 3949 3950 3951 3952 3953 3954 3955 3956 3957 3958 3959 3960 3961\n",
      " 3962 3963 3964 3965 3966 3967 3968 3969 3970 3971 3972 3973 3974 3975\n",
      " 3976 3977 3978 3979 3980 3981 3982 3983 3984 3985 3986 3987 3988 3989\n",
      " 3990 3991 3992 3993 3994 3995 3996 3997 3998 3999 4000 4001 4002 4003\n",
      " 4004 4005 4006 4007 4008 4009 4010 4011 4012 4013 4014 4015 4016 4017\n",
      " 4018 4019 4020 4021 4022 4023 4024 4025 4026 4027 4028 4029 4030 4031\n",
      " 4032 4033 4034 4035 4036 4037 4038 4039 4040 4041 4042 4043 4044 4045\n",
      " 4046 4047 4048 4049 4050 4051 4052 4053 4054 4055 4056 4057 4058 4059\n",
      " 4060 4061 4062 4063 4064 4065 4066 4067 4068 4069 4070 4071 4072 4073\n",
      " 4074 4075 4076 4077 4078 4079 4080 4081 4082 4083 4084 4085 4086 4087\n",
      " 4088 4089 4090 4091 4092 4093 4094 4095 4096 4097 4098 4099 4100 4101\n",
      " 4102 4103 4104 4105 4106 4107 4108 4109 4110 4111 4112 4113 4114 4115\n",
      " 4116 4117 4118 4119 4120 4121 4122 4123 4124 4125 4126 4127 4128 4129\n",
      " 4130 4131 4132 4133 4134 4135 4136 4137 4138 4139 4140 4141 4142 4143\n",
      " 4144 4145 4146 4147 4148 4149 4150 4151 4152 4153 4154 4155 4156 4157\n",
      " 4158 4159 4160 4161 4162 4163 4164 4165 4166 4167 4168 4169 4170 4171\n",
      " 4172 4173 4174 4175 4176 4177 4178 4179 4180 4181 4182 4183 4184 4185\n",
      " 4186 4187 4188 4189 4190 4191 4192 4193 4194 4195 4196 4197 4198 4199\n",
      " 4200 4201 4202 4203 4204 4205 4206 4207 4208 4209 4210 4211 4212 4213\n",
      " 4214 4215 4216 4217 4218 4219 4220 4221 4222 4223 4224 4225 4226 4227\n",
      " 4228 4229 4230 4231 4232 4233 4234 4235 4236 4237 4238 4239 4240 4241\n",
      " 4242 4243 4244 4245 4246 4247 4248 4249 4250 4251 4252 4253 4254 4255\n",
      " 4256 4257 4258 4259 4260 4261 4262 4263 4264 4265 4266 4267 4268 4269\n",
      " 4270 4271 4272 4273 4274 4275 4276 4277 4278 4279 4280 4281 4282 4283\n",
      " 4284 4285 4286 4287 4288 4289 4290 4291 4292 4293 4294 4295 4296 4297\n",
      " 4298 4299 4300 4301 4302 4303 4304 4305 4306 4307 4308 4309 4310 4311\n",
      " 4312 4313 4314 4315 4316 4317 4318 4319 4320 4321 4322 4323 4324 4325\n",
      " 4326 4327 4328 4329 4330 4331 4332 4333 4334 4335 4336 4337 4338 4339\n",
      " 4340 4341 4342 4343 4344 4345 4346 4347 4348 4349 4350 4351 4352 4353\n",
      " 4354 4355 4356 4357 4358 4359 4360 4361 4362 4363 4364 4365 4366 4367\n",
      " 4368 4369 4370 4371 4372 4373 4374 4375 4376 4377 4378 4379 4380 4381\n",
      " 4382 4383 4384 4385 4386 4387 4388 4389 4390 4391 4392 4393 4394 4395\n",
      " 4396 4397 4398 4399 4400 4401 4402 4403 4404 4405 4406 4407 4408 4409\n",
      " 4410 4411 4412 4413 4414 4415 4416 4417 4418 4419 4420 4421 4422 4423\n",
      " 4424 4425 4426 4427 4428 4429 4430 4431 4432 4433 4434 4435 4436 4437\n",
      " 4438 4439 4440 4441 4442 4443 4444 4445 4446 4447]\n",
      "The test index of fold 9 is  [4448 4449 4450 4451 4452 4453 4454 4455 4456 4457 4458 4459 4460 4461\n",
      " 4462 4463 4464 4465 4466 4467 4468 4469 4470 4471 4472 4473 4474 4475\n",
      " 4476 4477 4478 4479 4480 4481 4482 4483 4484 4485 4486 4487 4488 4489\n",
      " 4490 4491 4492 4493 4494 4495 4496 4497 4498 4499 4500 4501 4502 4503\n",
      " 4504 4505 4506 4507 4508 4509 4510 4511 4512 4513 4514 4515 4516 4517\n",
      " 4518 4519 4520 4521 4522 4523 4524 4525 4526 4527 4528 4529 4530 4531\n",
      " 4532 4533 4534 4535 4536 4537 4538 4539 4540 4541 4542 4543 4544 4545\n",
      " 4546 4547 4548 4549 4550 4551 4552 4553 4554 4555 4556 4557 4558 4559\n",
      " 4560 4561 4562 4563 4564 4565 4566 4567 4568 4569 4570 4571 4572 4573\n",
      " 4574 4575 4576 4577 4578 4579 4580 4581 4582 4583 4584 4585 4586 4587\n",
      " 4588 4589 4590 4591 4592 4593 4594 4595 4596 4597 4598 4599 4600 4601\n",
      " 4602 4603 4604 4605 4606 4607 4608 4609 4610 4611 4612 4613 4614 4615\n",
      " 4616 4617 4618 4619 4620 4621 4622 4623 4624 4625 4626 4627 4628 4629\n",
      " 4630 4631 4632 4633 4634 4635 4636 4637 4638 4639 4640 4641 4642 4643\n",
      " 4644 4645 4646 4647 4648 4649 4650 4651 4652 4653 4654 4655 4656 4657\n",
      " 4658 4659 4660 4661 4662 4663 4664 4665 4666 4667 4668 4669 4670 4671\n",
      " 4672 4673 4674 4675 4676 4677 4678 4679 4680 4681 4682 4683 4684 4685\n",
      " 4686 4687 4688 4689 4690 4691 4692 4693 4694 4695 4696 4697 4698 4699\n",
      " 4700 4701 4702 4703 4704 4705 4706 4707 4708 4709 4710 4711 4712 4713\n",
      " 4714 4715 4716 4717 4718 4719 4720 4721 4722 4723 4724 4725 4726 4727\n",
      " 4728 4729 4730 4731 4732 4733 4734 4735 4736 4737 4738 4739 4740 4741\n",
      " 4742 4743 4744 4745 4746 4747 4748 4749 4750 4751 4752 4753 4754 4755\n",
      " 4756 4757 4758 4759 4760 4761 4762 4763 4764 4765 4766 4767 4768 4769\n",
      " 4770 4771 4772 4773 4774 4775 4776 4777 4778 4779 4780 4781 4782 4783\n",
      " 4784 4785 4786 4787 4788 4789 4790 4791 4792 4793 4794 4795 4796 4797\n",
      " 4798 4799 4800 4801 4802 4803 4804 4805 4806 4807 4808 4809 4810 4811\n",
      " 4812 4813 4814 4815 4816 4817 4818 4819 4820 4821 4822 4823 4824 4825\n",
      " 4826 4827 4828 4829 4830 4831 4832 4833 4834 4835 4836 4837 4838 4839\n",
      " 4840 4841 4842 4843 4844 4845 4846 4847 4848 4849 4850 4851 4852 4853\n",
      " 4854 4855 4856 4857 4858 4859 4860 4861 4862 4863 4864 4865 4866 4867\n",
      " 4868 4869 4870 4871 4872 4873 4874 4875 4876 4877 4878 4879 4880 4881\n",
      " 4882 4883 4884 4885 4886 4887 4888 4889 4890 4891 4892 4893 4894 4895\n",
      " 4896 4897 4898 4899 4900 4901 4902 4903 4904 4905 4906 4907 4908 4909\n",
      " 4910 4911 4912 4913 4914 4915 4916 4917 4918 4919 4920 4921 4922 4923\n",
      " 4924 4925 4926 4927 4928 4929 4930 4931 4932 4933 4934 4935 4936 4937\n",
      " 4938 4939 4940 4941 4942 4943 4944 4945 4946 4947 4948 4949 4950 4951\n",
      " 4952 4953 4954 4955 4956 4957 4958 4959 4960 4961 4962 4963 4964 4965\n",
      " 4966 4967 4968 4969 4970 4971 4972 4973 4974 4975 4976 4977 4978 4979\n",
      " 4980 4981 4982 4983 4984 4985 4986 4987 4988 4989 4990 4991 4992 4993\n",
      " 4994 4995 4996 4997 4998 4999 5000 5001 5002 5003]\n",
      "The test index of fold 10 is  [5004 5005 5006 5007 5008 5009 5010 5011 5012 5013 5014 5015 5016 5017\n",
      " 5018 5019 5020 5021 5022 5023 5024 5025 5026 5027 5028 5029 5030 5031\n",
      " 5032 5033 5034 5035 5036 5037 5038 5039 5040 5041 5042 5043 5044 5045\n",
      " 5046 5047 5048 5049 5050 5051 5052 5053 5054 5055 5056 5057 5058 5059\n",
      " 5060 5061 5062 5063 5064 5065 5066 5067 5068 5069 5070 5071 5072 5073\n",
      " 5074 5075 5076 5077 5078 5079 5080 5081 5082 5083 5084 5085 5086 5087\n",
      " 5088 5089 5090 5091 5092 5093 5094 5095 5096 5097 5098 5099 5100 5101\n",
      " 5102 5103 5104 5105 5106 5107 5108 5109 5110 5111 5112 5113 5114 5115\n",
      " 5116 5117 5118 5119 5120 5121 5122 5123 5124 5125 5126 5127 5128 5129\n",
      " 5130 5131 5132 5133 5134 5135 5136 5137 5138 5139 5140 5141 5142 5143\n",
      " 5144 5145 5146 5147 5148 5149 5150 5151 5152 5153 5154 5155 5156 5157\n",
      " 5158 5159 5160 5161 5162 5163 5164 5165 5166 5167 5168 5169 5170 5171\n",
      " 5172 5173 5174 5175 5176 5177 5178 5179 5180 5181 5182 5183 5184 5185\n",
      " 5186 5187 5188 5189 5190 5191 5192 5193 5194 5195 5196 5197 5198 5199\n",
      " 5200 5201 5202 5203 5204 5205 5206 5207 5208 5209 5210 5211 5212 5213\n",
      " 5214 5215 5216 5217 5218 5219 5220 5221 5222 5223 5224 5225 5226 5227\n",
      " 5228 5229 5230 5231 5232 5233 5234 5235 5236 5237 5238 5239 5240 5241\n",
      " 5242 5243 5244 5245 5246 5247 5248 5249 5250 5251 5252 5253 5254 5255\n",
      " 5256 5257 5258 5259 5260 5261 5262 5263 5264 5265 5266 5267 5268 5269\n",
      " 5270 5271 5272 5273 5274 5275 5276 5277 5278 5279 5280 5281 5282 5283\n",
      " 5284 5285 5286 5287 5288 5289 5290 5291 5292 5293 5294 5295 5296 5297\n",
      " 5298 5299 5300 5301 5302 5303 5304 5305 5306 5307 5308 5309 5310 5311\n",
      " 5312 5313 5314 5315 5316 5317 5318 5319 5320 5321 5322 5323 5324 5325\n",
      " 5326 5327 5328 5329 5330 5331 5332 5333 5334 5335 5336 5337 5338 5339\n",
      " 5340 5341 5342 5343 5344 5345 5346 5347 5348 5349 5350 5351 5352 5353\n",
      " 5354 5355 5356 5357 5358 5359 5360 5361 5362 5363 5364 5365 5366 5367\n",
      " 5368 5369 5370 5371 5372 5373 5374 5375 5376 5377 5378 5379 5380 5381\n",
      " 5382 5383 5384 5385 5386 5387 5388 5389 5390 5391 5392 5393 5394 5395\n",
      " 5396 5397 5398 5399 5400 5401 5402 5403 5404 5405 5406 5407 5408 5409\n",
      " 5410 5411 5412 5413 5414 5415 5416 5417 5418 5419 5420 5421 5422 5423\n",
      " 5424 5425 5426 5427 5428 5429 5430 5431 5432 5433 5434 5435 5436 5437\n",
      " 5438 5439 5440 5441 5442 5443 5444 5445 5446 5447 5448 5449 5450 5451\n",
      " 5452 5453 5454 5455 5456 5457 5458 5459 5460 5461 5462 5463 5464 5465\n",
      " 5466 5467 5468 5469 5470 5471 5472 5473 5474 5475 5476 5477 5478 5479\n",
      " 5480 5481 5482 5483 5484 5485 5486 5487 5488 5489 5490 5491 5492 5493\n",
      " 5494 5495 5496 5497 5498 5499 5500 5501 5502 5503 5504 5505 5506 5507\n",
      " 5508 5509 5510 5511 5512 5513 5514 5515 5516 5517 5518 5519 5520 5521\n",
      " 5522 5523 5524 5525 5526 5527 5528 5529 5530 5531 5532 5533 5534 5535\n",
      " 5536 5537 5538 5539 5540 5541 5542 5543 5544 5545 5546 5547 5548 5549\n",
      " 5550 5551 5552 5553 5554 5555 5556 5557 5558]\n",
      "              precision    recall  f1-score   support\n",
      "\n",
      "         ham       0.96      1.00      0.98      4812\n",
      "        spam       0.99      0.76      0.86       747\n",
      "\n",
      "    accuracy                           0.97      5559\n",
      "   macro avg       0.98      0.88      0.92      5559\n",
      "weighted avg       0.97      0.97      0.97      5559\n",
      "\n"
     ]
    }
   ],
   "source": [
    "from sklearn.model_selection import KFold\n",
    "from sklearn import metrics\n",
    "kf = KFold(n_splits=10)\n",
    "\n",
    "totalPredicted=[]\n",
    "totalActual=[]\n",
    "n=0\n",
    "for train_index, test_index in kf.split(X):\n",
    "    n+=1\n",
    "    print(\"The test index of fold {} is \".format(str(n)),test_index)\n",
    "    X_train, X_test = X[train_index], X[test_index]\n",
    "    y_train, y_test = y[train_index], y[test_index]\n",
    "    clf.fit(X_train, y_train)\n",
    "    predicted=clf.predict(X_test)\n",
    "    totalPredicted+=predicted.tolist()\n",
    "    totalActual+=list(y_test)\n",
    "\n",
    "print(metrics.classification_report(totalActual,totalPredicted))\n"
   ]
  },
  {
   "cell_type": "markdown",
   "id": "3ac737c8-e912-4143-b67f-6df3b21f319f",
   "metadata": {},
   "source": [
    "Alternatively, we can do it one-shot, by selecting the metrics(s) we are interested in (for example, accuracy):"
   ]
  },
  {
   "cell_type": "code",
   "execution_count": 29,
   "id": "b3e86ccf-1add-44f5-ac4a-0acf4b915209",
   "metadata": {
    "tags": []
   },
   "outputs": [
    {
     "name": "stdout",
     "output_type": "stream",
     "text": [
      "[0.94964029 0.97482014 0.9676259  0.96582734 0.97841727 0.96942446\n",
      " 0.97302158 0.96942446 0.97122302 0.94414414]\n"
     ]
    }
   ],
   "source": [
    "from sklearn.model_selection import cross_val_score\n",
    "cv = KFold(n_splits=10, random_state=1, shuffle=True)\n",
    "scores = cross_val_score(clf, X, y, scoring='accuracy', cv=cv, n_jobs=-1)\n",
    "print(scores)"
   ]
  },
  {
   "cell_type": "markdown",
   "id": "4326bfb7-6a67-47a8-a156-0711b529cb2d",
   "metadata": {},
   "source": [
    "Other possible metrics are:\n",
    "- ‘balanced_accuracy’\n",
    "- ‘roc_auc’\n",
    "- ‘f1’"
   ]
  },
  {
   "cell_type": "code",
   "execution_count": 30,
   "id": "7514a000-d9a9-4ed8-8137-b80f46f51fca",
   "metadata": {
    "tags": []
   },
   "outputs": [
    {
     "data": {
      "text/plain": [
       "{'fit_time': array([0.01786494, 0.02084589, 0.02137399, 0.02020001, 0.01851702,\n",
       "        0.02040911, 0.01880884, 0.02215719, 0.01942921, 0.01765585]),\n",
       " 'score_time': array([0.01410103, 0.01641107, 0.01449895, 0.0143671 , 0.01767087,\n",
       "        0.01314592, 0.01519203, 0.01319194, 0.01234579, 0.01156402]),\n",
       " 'test_acc': array([0.97122302, 0.97661871, 0.96223022, 0.95683453, 0.97661871,\n",
       "        0.97482014, 0.9676259 , 0.96942446, 0.96402878, 0.95675676]),\n",
       " 'test_prec_macro': array([0.98393574, 0.98686869, 0.97908367, 0.95264213, 0.97999238,\n",
       "        0.98585859, 0.98196393, 0.98293173, 0.9649422 , 0.97623762]),\n",
       " 'test_rec_micro': array([0.89189189, 0.91216216, 0.86      , 0.8568815 , 0.9189605 ,\n",
       "        0.90666667, 0.88      , 0.88666667, 0.877921  , 0.83783784])}"
      ]
     },
     "execution_count": 30,
     "metadata": {},
     "output_type": "execute_result"
    }
   ],
   "source": [
    "from sklearn.model_selection import cross_validate\n",
    "scoring = {'acc': 'accuracy',\n",
    "           'prec_macro': 'precision_macro',\n",
    "           'rec_micro': 'recall_macro'}\n",
    "scores = cross_validate(clf, X, y, scoring=scoring, cv=10, n_jobs=-1)\n",
    "scores"
   ]
  },
  {
   "cell_type": "markdown",
   "id": "cb000e78-f679-44aa-b8d6-743ee1be0017",
   "metadata": {},
   "source": [
    "## Feature importance"
   ]
  },
  {
   "cell_type": "code",
   "execution_count": 31,
   "id": "faf63c62-e952-4463-9bdb-07cb706ef15d",
   "metadata": {
    "tags": []
   },
   "outputs": [
    {
     "name": "stdout",
     "output_type": "stream",
     "text": [
      "Ham top 20 features: ['get' 'come' 'call' 'got' 'time' 'like' 'good' 'home' 'know' 'sorri'\n",
      " 'later' 'lor' 'want' 'dai' 'love' 'need' 'see' 'still' 'tell' 'meet']\n",
      "Spam top 20 features: ['call' 'free' 'txt' 'mobil' 'prize' 'claim' 'text' 'stop' 'repli'\n",
      " 'servic' 'www' 'cash' 'new' 'tone' 'contact' 'award' 'urgent' 'min'\n",
      " 'nokia' 'plea']\n"
     ]
    }
   ],
   "source": [
    "neg_class_prob_sorted = clf.feature_log_prob_[0,: ].argsort()[::-1]\n",
    "pos_class_prob_sorted = clf.feature_log_prob_[1,: ].argsort()[::-1]\n",
    "print(\"Ham top 20 features:\",np.take(count_vect.get_feature_names_out(), neg_class_prob_sorted[: 20]))\n",
    "print(\"Spam top 20 features:\",np.take(count_vect.get_feature_names_out(), pos_class_prob_sorted[: 20]))\n"
   ]
  },
  {
   "cell_type": "code",
   "execution_count": 34,
   "id": "c166f520-4915-4e48-bab2-1d796ddc8870",
   "metadata": {
    "tags": []
   },
   "outputs": [
    {
     "data": {
      "text/plain": [
       "array([2043, 1006,  749, ..., 4334, 4332, 1100])"
      ]
     },
     "execution_count": 34,
     "metadata": {},
     "output_type": "execute_result"
    }
   ],
   "source": [
    "neg_class_prob_sorted"
   ]
  },
  {
   "cell_type": "code",
   "execution_count": 35,
   "id": "d548a266-f6cf-4451-a16c-fe22f70e81d8",
   "metadata": {},
   "outputs": [
    {
     "data": {
      "text/plain": [
       "array(['aah', 'aanii', 'aaooooright', ..., 'zouk', 'zyada', '〨ud'],\n",
       "      dtype=object)"
      ]
     },
     "execution_count": 35,
     "metadata": {},
     "output_type": "execute_result"
    }
   ],
   "source": [
    "count_vect.get_feature_names_out()"
   ]
  },
  {
   "cell_type": "code",
   "execution_count": 37,
   "id": "eef64c3d-3b84-4d18-87ed-150d974c6b69",
   "metadata": {
    "tags": []
   },
   "outputs": [
    {
     "data": {
      "text/plain": [
       "'come'"
      ]
     },
     "execution_count": 37,
     "metadata": {},
     "output_type": "execute_result"
    }
   ],
   "source": [
    "count_vect.get_feature_names_out()[1006]"
   ]
  },
  {
   "cell_type": "code",
   "execution_count": null,
   "id": "5fa4417c-18cf-4d73-97ab-e76cdda1d587",
   "metadata": {},
   "outputs": [],
   "source": []
  }
 ],
 "metadata": {
  "kernelspec": {
   "display_name": "Python 3 (ipykernel)",
   "language": "python",
   "name": "python3"
  },
  "language_info": {
   "codemirror_mode": {
    "name": "ipython",
    "version": 3
   },
   "file_extension": ".py",
   "mimetype": "text/x-python",
   "name": "python",
   "nbconvert_exporter": "python",
   "pygments_lexer": "ipython3",
   "version": "3.10.10"
  }
 },
 "nbformat": 4,
 "nbformat_minor": 5
}