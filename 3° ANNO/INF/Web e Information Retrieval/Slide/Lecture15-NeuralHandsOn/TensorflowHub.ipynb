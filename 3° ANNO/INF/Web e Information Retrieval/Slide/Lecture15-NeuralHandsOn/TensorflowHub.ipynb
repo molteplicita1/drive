{
 "cells": [
  {
   "cell_type": "markdown",
   "metadata": {},
   "source": [
    "# Using models from Tensorflow Hub"
   ]
  },
  {
   "cell_type": "markdown",
   "metadata": {},
   "source": [
    "## Importing a model"
   ]
  },
  {
   "cell_type": "code",
   "execution_count": 2,
   "metadata": {},
   "outputs": [
    {
     "name": "stderr",
     "output_type": "stream",
     "text": [
      "2024-05-11 18:22:24.279999: I tensorflow/core/platform/cpu_feature_guard.cc:210] This TensorFlow binary is optimized to use available CPU instructions in performance-critical operations.\n",
      "To enable the following instructions: AVX2 AVX512F AVX512_VNNI FMA, in other operations, rebuild TensorFlow with the appropriate compiler flags.\n"
     ]
    },
    {
     "name": "stdout",
     "output_type": "stream",
     "text": [
      "tf.Tensor(\n",
      "[[-5.14805540e-02 -1.92053974e-01  4.53008525e-02 -9.96370390e-02\n",
      "   5.38923480e-02  8.34979564e-02  7.27996677e-02 -1.27169073e-01\n",
      "   6.24356270e-02  9.81895104e-02 -5.33969402e-02  1.61190659e-01\n",
      "  -1.36027522e-02 -2.72708107e-03  1.71537384e-01  1.24906197e-01\n",
      "   1.15381563e-02 -2.77321301e-02  6.66442439e-02 -1.28565924e-02\n",
      "   3.95655632e-02  1.61706526e-02  3.44905234e-03 -3.30653414e-02\n",
      "   1.13467865e-01 -3.23929265e-02  6.64588250e-03  5.34387156e-02\n",
      "   1.19479060e-01  4.63577174e-02  8.30192715e-02 -5.91111630e-02\n",
      "   8.59290361e-02 -1.01532824e-01  7.54378317e-03  4.15412569e-03\n",
      "   5.89248538e-03 -2.51556151e-02  1.13079183e-01 -4.36960533e-02\n",
      "  -1.68391705e-01  2.92641334e-02 -1.40178025e-01 -8.40619281e-02\n",
      "   1.48394153e-01  9.07467008e-02 -5.67608029e-02 -1.04004763e-01\n",
      "  -8.44553933e-02  8.50597844e-02  7.93245584e-02  2.39145532e-02\n",
      "  -1.19153991e-01  2.17635736e-01 -2.18595695e-02 -4.27431203e-02\n",
      "  -1.75292030e-01 -5.83514608e-02  1.50858937e-02 -9.78629012e-03\n",
      "  -8.74623880e-02 -1.32550955e-01  2.55552512e-02  1.07006066e-01\n",
      "   1.12839080e-01 -1.16539821e-01 -1.15803346e-01 -9.23949555e-02\n",
      "  -1.55965701e-01 -1.25600128e-02  1.27804086e-01 -8.76564384e-02\n",
      "   1.16007529e-01  6.24112086e-03  1.30231380e-01 -1.41361311e-01\n",
      "  -3.13660502e-02  3.92044894e-02  7.72149563e-02  3.57291549e-02\n",
      "  -1.36040106e-01  1.53127965e-02  2.75261067e-02 -2.27289833e-02\n",
      "   5.95712326e-02  5.23981899e-02 -1.40063182e-01  1.72593407e-02\n",
      "  -2.35673296e-03 -7.02513158e-02 -7.38211796e-02  6.78406060e-02\n",
      "   5.90462275e-02 -2.17459753e-01  1.00375796e-02 -6.83509782e-02\n",
      "  -1.23797124e-02  7.79274926e-02  1.04184868e-02  1.41857594e-01\n",
      "   7.24928230e-02  2.46292517e-01 -3.59483659e-02  1.62022024e-01\n",
      "  -1.50000408e-01 -9.25377309e-02 -4.19961512e-02 -9.46031958e-02\n",
      "   2.76161823e-02 -1.09871207e-02 -3.49864885e-02  4.51841466e-02\n",
      "  -7.94047564e-02  8.44308510e-02 -4.68707383e-02 -8.34897235e-02\n",
      "   4.67144698e-02 -7.21751899e-02 -5.00164255e-02  1.04081437e-01\n",
      "  -7.09523037e-02  8.75777751e-03 -5.74923567e-02 -8.34990889e-02\n",
      "  -1.51603907e-01 -2.02851165e-02  4.97076288e-02  4.43479270e-02\n",
      "   1.08668441e-02 -3.65434177e-02 -1.01520300e-01  1.92980785e-02\n",
      "  -1.36454344e-01 -1.15060814e-01 -1.10561118e-01  1.38415426e-01\n",
      "  -3.99996638e-02 -1.77849039e-01 -8.19661990e-02  9.55137536e-02\n",
      "  -9.80283469e-02  1.43974379e-01  5.12305871e-02 -1.10613359e-02\n",
      "  -1.90055877e-01 -1.05548039e-01 -1.42569527e-01  8.44379961e-02\n",
      "  -4.24651764e-02  4.21115346e-02 -1.32614896e-01  1.02103554e-01\n",
      "   1.42481253e-02 -6.34568781e-02  2.46955410e-01  3.76058854e-02\n",
      "  -1.04515105e-02 -7.69199878e-02 -1.54456109e-01 -1.20300665e-01\n",
      "  -5.90700842e-02 -7.97084570e-02 -2.31975708e-02 -8.30314383e-02\n",
      "  -2.94809602e-02 -5.13250194e-02 -4.06575063e-03 -3.15318778e-02\n",
      "  -1.58679813e-01  4.93728593e-02  8.36367458e-02 -5.56040816e-02\n",
      "  -7.06130266e-02  5.93846776e-02  1.13773033e-01 -1.12850167e-01\n",
      "  -2.53451038e-02  1.08597308e-01 -3.03113423e-02  2.62488741e-02\n",
      "   2.13127434e-02 -1.37437638e-02  1.07634570e-02  6.83074072e-02\n",
      "   3.59260999e-02 -1.11502111e-01  1.69730946e-01 -1.84150953e-02\n",
      "  -3.01484372e-02 -7.22651258e-02 -6.68040067e-02 -1.08581156e-01\n",
      "  -1.00931711e-01 -7.28405192e-02  1.61406845e-02  9.04831439e-02\n",
      "  -3.44998240e-02 -2.40977496e-01 -5.30240797e-02 -1.83831275e-01\n",
      "  -1.43227801e-01 -2.02962443e-01  3.72830480e-02 -4.00139838e-02\n",
      "  -4.15076502e-02  3.96549664e-02 -1.10272486e-02 -9.24990773e-02\n",
      "  -3.76625569e-03  4.04605269e-02 -1.46804318e-01  1.93112597e-01\n",
      "   1.56502590e-01 -2.90726442e-02  3.44817862e-02 -2.69006155e-02\n",
      "   7.67113641e-02 -1.31876603e-01  4.48632054e-02 -2.07781326e-02\n",
      "  -1.95184365e-01  1.18942313e-01  8.37401897e-02  9.91679281e-02\n",
      "  -1.55249387e-02 -4.14389074e-02 -5.73545583e-02 -1.85933243e-02\n",
      "  -9.22037810e-02 -1.43051758e-01  1.63320199e-01 -6.69484288e-02\n",
      "   3.75847029e-03  1.25531867e-01 -4.98161390e-02  2.47667041e-02\n",
      "   8.08210373e-02 -6.45470023e-02  4.49435078e-02 -7.30039030e-02\n",
      "  -8.17290470e-02  7.16652721e-02  9.40659493e-02  1.05818257e-01\n",
      "   4.76032160e-02  2.29408387e-02  1.86813064e-02 -3.97252887e-02\n",
      "   4.66078706e-02 -2.14025918e-02]\n",
      " [-4.90834862e-02 -1.92501843e-01  3.44199799e-02 -9.22896042e-02\n",
      "   5.11599742e-02  9.83831435e-02  6.42347410e-02 -1.02402449e-01\n",
      "   9.86967981e-02  7.74201974e-02 -3.32175642e-02  2.11305290e-01\n",
      "   1.23026466e-03  1.73791610e-02  2.22730383e-01  8.80247876e-02\n",
      "   4.09213044e-02 -5.96682988e-02  2.84035858e-02 -2.43242998e-02\n",
      "  -7.63693359e-03  3.32714356e-02 -1.45280007e-02 -1.20431688e-02\n",
      "   1.69583365e-01 -2.29338873e-02  2.40131281e-02  5.33250794e-02\n",
      "   9.64692459e-02 -7.13237794e-03  1.29198104e-01 -4.13112007e-02\n",
      "   3.38644646e-02 -6.81935996e-02 -2.74378806e-02  3.74797694e-02\n",
      "   4.49599363e-02  1.01271173e-04  7.54172802e-02 -3.60669568e-02\n",
      "  -1.52953312e-01  3.27563286e-02 -9.06520188e-02 -7.68132284e-02\n",
      "   1.31952941e-01  7.19337538e-02 -1.43044349e-02 -1.41986534e-01\n",
      "  -7.92862400e-02  8.43317509e-02  6.32385015e-02  2.15219148e-02\n",
      "  -1.29151717e-01  2.28310734e-01 -1.93848903e-03 -2.66604163e-02\n",
      "  -1.72565684e-01 -1.31059632e-01  1.18483286e-02 -7.56401345e-02\n",
      "  -4.16046232e-02 -1.88196853e-01  4.23484342e-03  1.17097348e-01\n",
      "   1.12343758e-01 -1.37415335e-01 -1.52081832e-01 -1.51745500e-02\n",
      "  -1.62981674e-01 -5.11911102e-02  1.41583815e-01 -1.06537178e-01\n",
      "   9.38424766e-02 -3.41891758e-02  1.24699444e-01 -8.52890909e-02\n",
      "  -7.86762983e-02  4.60332492e-03  1.60032153e-01  6.34751990e-02\n",
      "  -5.35540991e-02 -5.45015708e-02 -4.62419279e-02 -4.67503928e-02\n",
      "  -4.78331652e-03  6.59239069e-02 -8.65595788e-02  2.11016685e-02\n",
      "   2.78320145e-02 -3.90114598e-02 -1.05121046e-01  1.29501699e-02\n",
      "   7.35502690e-02 -2.22989887e-01  6.14241026e-02 -9.01509598e-02\n",
      "  -4.54522856e-02  3.03926790e-04  6.64951727e-02  1.17857873e-01\n",
      "   1.36409134e-01  2.42008820e-01  6.79863468e-02  1.44027218e-01\n",
      "  -1.75988004e-01 -6.41002879e-02  1.04202628e-02 -1.63391441e-01\n",
      "   1.50122335e-02 -2.26823557e-02  3.28446589e-02  8.60559791e-02\n",
      "  -1.11321844e-01  1.81739420e-01 -2.12864019e-02 -1.27982423e-01\n",
      "   9.21708047e-02 -8.73714462e-02 -1.08871013e-02  7.32275173e-02\n",
      "  -5.90953268e-02  5.64154275e-02  2.10358790e-04 -1.05335545e-02\n",
      "  -1.50393009e-01 -1.32049182e-02  6.46500736e-02  4.29323427e-02\n",
      "  -2.56085284e-02 -1.22220591e-02 -1.98739190e-02  8.68388489e-02\n",
      "  -1.36133403e-01 -1.04459457e-01 -7.65426457e-02  7.00254738e-02\n",
      "  -2.70330403e-02 -1.09238043e-01 -5.63438684e-02  1.46447808e-01\n",
      "  -1.30440407e-02  1.73229232e-01  1.17582195e-01 -1.64050702e-02\n",
      "  -1.45072743e-01 -1.68262467e-01 -1.72306195e-01  1.42596766e-01\n",
      "  -3.44661362e-02  9.59188342e-02 -9.69441980e-02  1.59867913e-01\n",
      "   3.46682705e-02 -9.72564295e-02  2.26368517e-01 -2.95973103e-02\n",
      "  -5.36005311e-02 -1.84635833e-01 -1.35354936e-01 -8.57472047e-02\n",
      "  -2.35953275e-02 -5.57621829e-02 -6.81652874e-02 -9.57283303e-02\n",
      "  -3.29389237e-02  9.06050019e-03 -4.14397605e-02  6.33496838e-03\n",
      "  -1.16808981e-01  5.53597771e-02  7.91453943e-02 -2.09468920e-02\n",
      "  -5.84308878e-02  4.63613681e-02  1.14610516e-01 -8.96398723e-02\n",
      "  -5.75708114e-02  3.72248068e-02  6.41966611e-03  1.29925057e-01\n",
      "  -1.11452667e-02 -4.93423901e-02  9.23694577e-03  6.63545877e-02\n",
      "   2.83413529e-02 -3.98032218e-02  1.64440036e-01 -7.54786432e-02\n",
      "  -4.15586829e-02 -2.89991070e-02 -1.48291051e-01 -9.35698152e-02\n",
      "  -1.57595024e-01 -8.49729776e-02  3.50814797e-02  1.53514028e-01\n",
      "  -4.16372046e-02 -2.58114845e-01 -6.24542907e-02 -1.63867801e-01\n",
      "  -1.66515052e-01 -2.10753486e-01  6.97400570e-02 -8.67846161e-02\n",
      "   1.04903718e-02 -6.40646443e-02 -1.61009151e-02 -1.07494242e-01\n",
      "   3.59885618e-02  1.73700936e-02 -1.21493898e-01  9.51213911e-02\n",
      "   1.60704851e-01 -2.94284988e-02  1.00445367e-01  5.46565838e-02\n",
      "   1.01177692e-01 -5.73262610e-02  8.55331570e-02 -6.67720735e-02\n",
      "  -1.21846996e-01  8.17713663e-02  5.77049777e-02  8.29316899e-02\n",
      "   2.65797768e-02 -6.34832159e-02 -4.75401990e-02  1.10519854e-02\n",
      "  -3.84447947e-02 -1.89950809e-01  1.80076092e-01 -1.07012495e-01\n",
      "  -1.47798592e-02  1.74499620e-02 -1.16555206e-02  5.66635616e-02\n",
      "   6.13736324e-02 -2.60588508e-02  5.64857237e-02 -8.21306929e-02\n",
      "  -4.93706204e-02  9.70475525e-02  9.40935165e-02  7.04464391e-02\n",
      "   5.40836453e-02  1.57957692e-02 -1.62651837e-02 -4.83019724e-02\n",
      "   4.38446663e-02 -1.85574591e-02]], shape=(2, 250), dtype=float32)\n"
     ]
    }
   ],
   "source": [
    "import tensorflow_hub as hub\n",
    "\n",
    "embed = hub.load(\"https://tfhub.dev/google/Wiki-words-250/2\")\n",
    "embeddings = embed([\"cat is on the mat\", \"dog is in the fog\"])\n",
    "\n",
    "print(embeddings)"
   ]
  },
  {
   "cell_type": "markdown",
   "metadata": {},
   "source": [
    "## Using the model for classification"
   ]
  },
  {
   "cell_type": "markdown",
   "metadata": {},
   "source": [
    "### Reading the dataset and initial settings"
   ]
  },
  {
   "cell_type": "code",
   "execution_count": 2,
   "metadata": {},
   "outputs": [
    {
     "name": "stderr",
     "output_type": "stream",
     "text": [
      "/var/folders/pg/ykf3591d58z1z4kgmjn1k1040000gn/T/ipykernel_48099/2495926660.py:11: MarkupResemblesLocatorWarning: The input looks more like a filename than markup. You may want to open this file and pass the filehandle into Beautiful Soup.\n",
      "  soup = BeautifulSoup(text, \"html.parser\")\n"
     ]
    }
   ],
   "source": [
    "import tensorflow_hub as hub\n",
    "import tensorflow as tf\n",
    "import pandas as pd\n",
    "from bs4 import BeautifulSoup\n",
    "from sklearn.preprocessing import LabelEncoder\n",
    "from sklearn.model_selection import train_test_split\n",
    "\n",
    "\n",
    "\n",
    "def strip_html(text):\n",
    "    soup = BeautifulSoup(text, \"html.parser\")\n",
    "    return soup.get_text()\n",
    "\n",
    "dataset=pd.read_csv(\"IMDB_Dataset.csv\")\n",
    "\n",
    "NB_EPOCHS = 20  # Number of epochs we usually start to train with\n",
    "BATCH_SIZE = 50  # Size of the batches used in the mini-batch gradient descent\n",
    "PATIENCE=10 # Patience level\n",
    "DROP_RATE=0.4 # Dropout rate\n",
    "\n",
    "\n",
    "dataset['review']=dataset['review'].map(strip_html)"
   ]
  },
  {
   "cell_type": "markdown",
   "metadata": {},
   "source": [
    "### Creating the sets"
   ]
  },
  {
   "cell_type": "code",
   "execution_count": 3,
   "metadata": {},
   "outputs": [],
   "source": [
    "X_trainAll, X_test, y_trainAll, y_test = train_test_split(dataset['review'], dataset['sentiment'],\n",
    "                                                          test_size=0.10, random_state=10)\n",
    "\n",
    "X_train, X_valid, y_train, y_valid = train_test_split(X_trainAll, y_trainAll,\n",
    "                                                      test_size=0.20, random_state=10)\n",
    "\n",
    "le = LabelEncoder()\n",
    "y_train_le=le.fit_transform(y_train)\n",
    "y_valid_le=le.transform(y_valid)\n",
    "y_test_le=le.transform(y_test)\n"
   ]
  },
  {
   "cell_type": "markdown",
   "metadata": {},
   "source": [
    "### Creating the network"
   ]
  },
  {
   "cell_type": "code",
   "execution_count": 4,
   "metadata": {},
   "outputs": [
    {
     "name": "stdout",
     "output_type": "stream",
     "text": [
      "Model: \"sequential\"\n",
      "_________________________________________________________________\n",
      " Layer (type)                Output Shape              Param #   \n",
      "=================================================================\n",
      " keras_layer (KerasLayer)    (None, 250)               252343750 \n",
      "                                                                 \n",
      " dropout (Dropout)           (None, 250)               0         \n",
      "                                                                 \n",
      " dense (Dense)               (None, 128)               32128     \n",
      "                                                                 \n",
      " dropout_1 (Dropout)         (None, 128)               0         \n",
      "                                                                 \n",
      " dense_1 (Dense)             (None, 128)               16512     \n",
      "                                                                 \n",
      " dropout_2 (Dropout)         (None, 128)               0         \n",
      "                                                                 \n",
      " dense_2 (Dense)             (None, 1)                 129       \n",
      "                                                                 \n",
      "=================================================================\n",
      "Total params: 252392519 (962.80 MB)\n",
      "Trainable params: 48769 (190.50 KB)\n",
      "Non-trainable params: 252343750 (962.62 MB)\n",
      "_________________________________________________________________\n",
      "Model: \"sequential\"\n",
      "_________________________________________________________________\n",
      " Layer (type)                Output Shape              Param #   \n",
      "=================================================================\n",
      " keras_layer (KerasLayer)    (None, 250)               252343750 \n",
      "                                                                 \n",
      " dropout (Dropout)           (None, 250)               0         \n",
      "                                                                 \n",
      " dense (Dense)               (None, 128)               32128     \n",
      "                                                                 \n",
      " dropout_1 (Dropout)         (None, 128)               0         \n",
      "                                                                 \n",
      " dense_1 (Dense)             (None, 128)               16512     \n",
      "                                                                 \n",
      " dropout_2 (Dropout)         (None, 128)               0         \n",
      "                                                                 \n",
      " dense_2 (Dense)             (None, 1)                 129       \n",
      "                                                                 \n",
      "=================================================================\n",
      "Total params: 252392519 (962.80 MB)\n",
      "Trainable params: 48769 (190.50 KB)\n",
      "Non-trainable params: 252343750 (962.62 MB)\n",
      "_________________________________________________________________\n"
     ]
    }
   ],
   "source": [
    "import tf_keras as keras\n",
    "import tensorflow_hub as hub\n",
    "import tensorflow as tf\n",
    "\n",
    "hub_layer = hub.KerasLayer(\"https://tfhub.dev/google/Wiki-words-250/2\",\n",
    "                           input_shape=[], dtype=tf.string,trainable=False)\n",
    "\n",
    "model = keras.Sequential()\n",
    "model.add(hub_layer)\n",
    "model.add(keras.layers.Dropout(DROP_RATE))\n",
    "model.add(keras.layers.Dense(128, activation='relu'))\n",
    "model.add(keras.layers.Dropout(DROP_RATE))\n",
    "model.add(keras.layers.Dense(128, activation='relu'))\n",
    "model.add(keras.layers.Dropout(DROP_RATE))\n",
    "model.add(keras.layers.Dense(1, activation='sigmoid'))\n",
    "\n",
    "model.summary()\n",
    "\n",
    "model.compile(loss='binary_crossentropy', optimizer='adam', metrics=['accuracy'])\n",
    "model.summary()\n"
   ]
  },
  {
   "cell_type": "markdown",
   "metadata": {},
   "source": [
    "### Fitting"
   ]
  },
  {
   "cell_type": "code",
   "execution_count": 11,
   "metadata": {},
   "outputs": [
    {
     "name": "stdout",
     "output_type": "stream",
     "text": [
      "Epoch 1/20\n",
      "720/720 [==============================] - 14s 19ms/step - loss: 0.5811 - accuracy: 0.6970 - val_loss: 0.5372 - val_accuracy: 0.7497\n",
      "Epoch 2/20\n",
      "720/720 [==============================] - 6s 9ms/step - loss: 0.5805 - accuracy: 0.6967 - val_loss: 0.5512 - val_accuracy: 0.7367\n",
      "Epoch 3/20\n",
      "720/720 [==============================] - 6s 8ms/step - loss: 0.5813 - accuracy: 0.6988 - val_loss: 0.5376 - val_accuracy: 0.7563\n",
      "Epoch 4/20\n",
      "720/720 [==============================] - 6s 8ms/step - loss: 0.5813 - accuracy: 0.6959 - val_loss: 0.5446 - val_accuracy: 0.7451\n",
      "Epoch 5/20\n",
      "720/720 [==============================] - 6s 8ms/step - loss: 0.5782 - accuracy: 0.6998 - val_loss: 0.5410 - val_accuracy: 0.7391\n",
      "Epoch 6/20\n",
      "720/720 [==============================] - 6s 9ms/step - loss: 0.5808 - accuracy: 0.6955 - val_loss: 0.5378 - val_accuracy: 0.7446\n",
      "Epoch 7/20\n",
      "720/720 [==============================] - 6s 8ms/step - loss: 0.5826 - accuracy: 0.6954 - val_loss: 0.5472 - val_accuracy: 0.7482\n",
      "Epoch 8/20\n",
      "720/720 [==============================] - 7s 9ms/step - loss: 0.5826 - accuracy: 0.6945 - val_loss: 0.5436 - val_accuracy: 0.7370\n",
      "Epoch 9/20\n",
      "720/720 [==============================] - 6s 8ms/step - loss: 0.5820 - accuracy: 0.6950 - val_loss: 0.5448 - val_accuracy: 0.7448\n",
      "Epoch 10/20\n",
      "720/720 [==============================] - 6s 8ms/step - loss: 0.5817 - accuracy: 0.6952 - val_loss: 0.5568 - val_accuracy: 0.7318\n",
      "Epoch 11/20\n",
      "720/720 [==============================] - 12s 17ms/step - loss: 0.5790 - accuracy: 0.6977 - val_loss: 0.5342 - val_accuracy: 0.7501\n",
      "Epoch 12/20\n",
      "720/720 [==============================] - 6s 8ms/step - loss: 0.5828 - accuracy: 0.6969 - val_loss: 0.5401 - val_accuracy: 0.7449\n",
      "Epoch 13/20\n",
      "720/720 [==============================] - 7s 9ms/step - loss: 0.5806 - accuracy: 0.6954 - val_loss: 0.5515 - val_accuracy: 0.7320\n",
      "Epoch 14/20\n",
      "720/720 [==============================] - 10s 14ms/step - loss: 0.5800 - accuracy: 0.6983 - val_loss: 0.5314 - val_accuracy: 0.7519\n",
      "Epoch 15/20\n",
      "720/720 [==============================] - 6s 8ms/step - loss: 0.5777 - accuracy: 0.6965 - val_loss: 0.5379 - val_accuracy: 0.7532\n",
      "Epoch 16/20\n",
      "720/720 [==============================] - 6s 8ms/step - loss: 0.5796 - accuracy: 0.6963 - val_loss: 0.5398 - val_accuracy: 0.7517\n",
      "Epoch 17/20\n",
      "720/720 [==============================] - 5s 8ms/step - loss: 0.5809 - accuracy: 0.6971 - val_loss: 0.5384 - val_accuracy: 0.7490\n",
      "Epoch 18/20\n",
      "720/720 [==============================] - 6s 8ms/step - loss: 0.5778 - accuracy: 0.6979 - val_loss: 0.5397 - val_accuracy: 0.7474\n",
      "Epoch 19/20\n",
      "720/720 [==============================] - 6s 8ms/step - loss: 0.5797 - accuracy: 0.6968 - val_loss: 0.5535 - val_accuracy: 0.7409\n",
      "Epoch 20/20\n",
      "720/720 [==============================] - 6s 8ms/step - loss: 0.5793 - accuracy: 0.6982 - val_loss: 0.5444 - val_accuracy: 0.7476\n"
     ]
    }
   ],
   "source": [
    "\n",
    "checkpoint_cb = keras.callbacks.ModelCheckpoint(\"my_keras_model.keras\", save_best_only=True)\n",
    "\n",
    "early_stopping_cb = keras.callbacks.EarlyStopping(patience=PATIENCE,\n",
    "                                            restore_best_weights=True)\n",
    "tb_callback = keras.callbacks.TensorBoard('./logs', update_freq=1)\n",
    "history = model.fit(X_train, y_train_le, epochs=NB_EPOCHS,\\\n",
    "                    validation_data=(X_valid, y_valid_le), \\\n",
    "                        callbacks=[early_stopping_cb, checkpoint_cb,tb_callback],batch_size=BATCH_SIZE)"
   ]
  },
  {
   "cell_type": "markdown",
   "metadata": {},
   "source": [
    "### Evaluating"
   ]
  },
  {
   "cell_type": "code",
   "execution_count": 9,
   "metadata": {},
   "outputs": [
    {
     "name": "stdout",
     "output_type": "stream",
     "text": [
      "Training Accuracy: 0.7380\n",
      "157/157 [==============================] - 1s 4ms/step - loss: 0.5237 - accuracy: 0.7448\n",
      "Testing Accuracy:  0.7448\n"
     ]
    },
    {
     "data": {
      "image/png": "[encoded data removed]",
      "text/plain": [
       "<Figure size 640x480 with 1 Axes>"
      ]
     },
     "metadata": {},
     "output_type": "display_data"
    }
   ],
   "source": [
    "loss, accuracy = model.evaluate(X_train, y_train_le, verbose=False)\n",
    "print(\"Training Accuracy: {:.4f}\".format(accuracy))\n",
    "\n",
    "loss, accuracy = model.evaluate(X_test, y_test_le, verbose=True)\n",
    "print(\"Testing Accuracy:  {:.4f}\".format(accuracy))\n",
    "\n",
    "import matplotlib.pyplot as plt\n",
    "pd.DataFrame(history.history).plot()\n",
    "plt.grid(True)\n",
    "plt.show()"
   ]
  }
 ],
 "metadata": {
  "kernelspec": {
   "display_name": ".venv",
   "language": "python",
   "name": "python3"
  },
  "language_info": {
   "codemirror_mode": {
    "name": "ipython",
    "version": 3
   },
   "file_extension": ".py",
   "mimetype": "text/x-python",
   "name": "python",
   "nbconvert_exporter": "python",
   "pygments_lexer": "ipython3",
   "version": "3.11.5"
  }
 },
 "nbformat": 4,
 "nbformat_minor": 2
}