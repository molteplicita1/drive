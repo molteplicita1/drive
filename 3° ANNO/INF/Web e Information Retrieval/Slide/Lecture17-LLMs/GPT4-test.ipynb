{
 "cells": [
  {
   "cell_type": "markdown",
   "metadata": {},
   "source": [
    "# Using GPT4"
   ]
  },
  {
   "cell_type": "code",
   "execution_count": 8,
   "metadata": {},
   "outputs": [],
   "source": [
    "from openai import OpenAI \n",
    "\n",
    "## Set the API key and model name\n",
    "MODEL=\"gpt-4o\"\n",
    "key=\"PUT YOUR API KEY HERE\"\n",
    "client = OpenAI(api_key=key)"
   ]
  },
  {
   "cell_type": "code",
   "execution_count": 9,
   "metadata": {},
   "outputs": [],
   "source": [
    "request = \"What api can I use to read a zip file?\""
   ]
  },
  {
   "cell_type": "code",
   "execution_count": 10,
   "metadata": {},
   "outputs": [],
   "source": [
    "messages=[\n",
    "    {\"role\": \"system\", \"content\": \"You are a Python expert. Help me with my project!\"}, # <-- This is the system message that provides context to the model\n",
    "    {\"role\": \"user\", \"content\": request}  # <-- This is the user message for which the model will generate a response\n",
    "  ]"
   ]
  },
  {
   "cell_type": "code",
   "execution_count": 11,
   "metadata": {},
   "outputs": [],
   "source": [
    "completion = client.chat.completions.create(\n",
    "  model=MODEL,\n",
    "  messages=messages,\n",
    "    max_tokens=100,\n",
    "    temperature=0.7\n",
    ")\n"
   ]
  },
  {
   "cell_type": "code",
   "execution_count": 12,
   "metadata": {},
   "outputs": [
    {
     "name": "stdout",
     "output_type": "stream",
     "text": [
      "ChatCompletion(id='chatcmpl-9Sj5gDqApAk7dV7CfIV3aaL80VjMp', choices=[Choice(finish_reason='length', index=0, logprobs=None, message=ChatCompletionMessage(content=\"To read a ZIP file in Python, you can use the built-in `zipfile` module, which provides tools to create, read, write, append, and list a ZIP file. Here's how you can use it:\\n\\n### Reading a ZIP File\\n\\n1. **Import the `zipfile` module:**\\n   ```python\\n   import zipfile\\n   ```\\n\\n2. **Open the ZIP file using `zipfile.ZipFile`:**\\n   ```python\\n   with zipfile.ZipFile\", role='assistant', function_call=None, tool_calls=None))], created=1716633540, model='gpt-4o-2024-05-13', object='chat.completion', system_fingerprint='fp_3196d36131', usage=CompletionUsage(completion_tokens=100, prompt_tokens=34, total_tokens=134))\n"
     ]
    }
   ],
   "source": [
    "print(completion)"
   ]
  },
  {
   "cell_type": "code",
   "execution_count": 13,
   "metadata": {},
   "outputs": [
    {
     "name": "stdout",
     "output_type": "stream",
     "text": [
      "To read a ZIP file in Python, you can use the built-in `zipfile` module, which provides tools to create, read, write, append, and list a ZIP file. Here's how you can use it:\n",
      "\n",
      "### Reading a ZIP File\n",
      "\n",
      "1. **Import the `zipfile` module:**\n",
      "   ```python\n",
      "   import zipfile\n",
      "   ```\n",
      "\n",
      "2. **Open the ZIP file using `zipfile.ZipFile`:**\n",
      "   ```python\n",
      "   with zipfile.ZipFile\n"
     ]
    }
   ],
   "source": [
    "print(completion.choices[0].message.content)"
   ]
  }
 ],
 "metadata": {
  "kernelspec": {
   "display_name": ".venv",
   "language": "python",
   "name": "python3"
  },
  "language_info": {
   "codemirror_mode": {
    "name": "ipython",
    "version": 3
   },
   "file_extension": ".py",
   "mimetype": "text/x-python",
   "name": "python",
   "nbconvert_exporter": "python",
   "pygments_lexer": "ipython3",
   "version": "3.11.5"
  }
 },
 "nbformat": 4,
 "nbformat_minor": 2
}