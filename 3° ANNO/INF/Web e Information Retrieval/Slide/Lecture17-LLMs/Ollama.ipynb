{
 "cells": [
  {
   "cell_type": "markdown",
   "metadata": {},
   "source": [
    "# Using Ollama as a service"
   ]
  },
  {
   "cell_type": "markdown",
   "metadata": {},
   "source": [
    "Creating the prompt ans specifying the model"
   ]
  },
  {
   "cell_type": "code",
   "execution_count": 16,
   "metadata": {},
   "outputs": [],
   "source": [
    "model=\"llama3\"\n",
    "prompt=\"How to create a tar archive in Unix?\""
   ]
  },
  {
   "cell_type": "markdown",
   "metadata": {},
   "source": [
    "Preparing the request"
   ]
  },
  {
   "cell_type": "code",
   "execution_count": 17,
   "metadata": {},
   "outputs": [],
   "source": [
    "request={}\n",
    "request['model']=model\n",
    "request['prompt']=prompt\n",
    "request['stream']=False"
   ]
  },
  {
   "cell_type": "code",
   "execution_count": 18,
   "metadata": {},
   "outputs": [
    {
     "name": "stdout",
     "output_type": "stream",
     "text": [
      "{'model': 'llama3', 'created_at': '2024-05-26T08:38:51.402214Z', 'response': \"A tar (tape archive) is a type of archive file that can store and compress files on a Unix-like system. Here are the steps to create a tar archive:\\n\\n**Using the `tar` command:**\\n\\n1. Open a terminal or command prompt.\\n2. Navigate to the directory where you want to create the archive. You can use the `cd` command to change directories.\\n3. Use the following syntax to create a tar archive:\\n```\\ntar -czf output_file.tar file1 file2 ... filen\\n```\\nReplace `output_file.tar` with the desired name of your archive file, and `file1`, `file2`, etc., with the names of the files you want to include in the archive.\\n\\nThe options used are:\\n\\n* `-c`: Create a new tar archive.\\n* `-z`: Use gzip compression (default is none).\\n* `-f`: Specify the output file name.\\n4. Press Enter to create the archive.\\n\\n**Example:**\\n```\\ntar -czf my_files.tar document.txt image.jpg script.sh\\n```\\nThis command creates an archive named `my_files.tar` that contains the files `document.txt`, `image.jpg`, and `script.sh`.\\n\\n**Using a GUI tool:**\\n\\nIf you prefer a graphical interface, you can use a file archiver like File Roller (on Linux) or Archive Utility (on macOS). These tools provide a simple way to create tar archives without using the command line.\\n\\n**Additional tips:**\\n\\n* To include all files in the current directory and its subdirectories, use `tar -czf output_file.tar .`\\n* You can also specify multiple files by separating their names with spaces or commas.\\n* Tar archives can be extracted using the `tar` command as well. For example, to extract an archive named `my_files.tar`, run: `tar xvf my_files.tar`\\n\\nThat's it! With these steps, you should be able to create a tar archive on your Unix-like system.\", 'done': True, 'done_reason': 'stop', 'context': [128006, 882, 128007, 271, 4438, 311, 1893, 264, 12460, 18624, 304, 48095, 30, 128009, 128006, 78191, 128007, 271, 32, 12460, 320, 64620, 18624, 8, 374, 264, 955, 315, 18624, 1052, 430, 649, 3637, 323, 25633, 3626, 389, 264, 48095, 12970, 1887, 13, 5810, 527, 279, 7504, 311, 1893, 264, 12460, 18624, 1473, 334, 16834, 279, 1595, 27835, 63, 3290, 25, 57277, 16, 13, 5377, 264, 15372, 477, 3290, 10137, 627, 17, 13, 82839, 311, 279, 6352, 1405, 499, 1390, 311, 1893, 279, 18624, 13, 1472, 649, 1005, 279, 1595, 4484, 63, 3290, 311, 2349, 29725, 627, 18, 13, 5560, 279, 2768, 20047, 311, 1893, 264, 12460, 18624, 512, 14196, 4077, 27835, 482, 14088, 69, 2612, 2517, 29148, 1052, 16, 1052, 17, 2564, 1488, 268, 198, 14196, 4077, 23979, 1595, 3081, 2517, 29148, 63, 449, 279, 12974, 836, 315, 701, 18624, 1052, 11, 323, 1595, 1213, 16, 7964, 1595, 1213, 17, 7964, 5099, 2637, 449, 279, 5144, 315, 279, 3626, 499, 1390, 311, 2997, 304, 279, 18624, 382, 791, 2671, 1511, 527, 1473, 9, 94897, 66, 45722, 4324, 264, 502, 12460, 18624, 627, 9, 94897, 89, 45722, 5560, 58895, 26168, 320, 2309, 374, 7000, 4390, 9, 94897, 69, 45722, 48495, 279, 2612, 1052, 836, 627, 19, 13, 8612, 11502, 311, 1893, 279, 18624, 382, 334, 13617, 25, 1035, 14196, 4077, 27835, 482, 14088, 69, 856, 11171, 29148, 2246, 3996, 2217, 4924, 5429, 2452, 198, 14196, 4077, 2028, 3290, 11705, 459, 18624, 7086, 1595, 2465, 11171, 29148, 63, 430, 5727, 279, 3626, 1595, 6190, 3996, 7964, 1595, 1843, 4924, 7964, 323, 1595, 2334, 2452, 63438, 334, 16834, 264, 16840, 5507, 25, 57277, 2746, 499, 10932, 264, 54243, 3834, 11, 499, 649, 1005, 264, 1052, 5438, 1553, 1093, 2958, 45642, 320, 263, 14677, 8, 477, 30802, 26230, 320, 263, 68278, 570, 4314, 7526, 3493, 264, 4382, 1648, 311, 1893, 12460, 39104, 2085, 1701, 279, 3290, 1584, 382, 334, 30119, 10631, 25, 57277, 9, 2057, 2997, 682, 3626, 304, 279, 1510, 6352, 323, 1202, 1207, 76801, 11, 1005, 1595, 27835, 482, 14088, 69, 2612, 2517, 29148, 662, 4077, 9, 1472, 649, 1101, 14158, 5361, 3626, 555, 50545, 872, 5144, 449, 12908, 477, 77702, 627, 9, 24912, 39104, 649, 387, 28532, 1701, 279, 1595, 27835, 63, 3290, 439, 1664, 13, 1789, 3187, 11, 311, 8819, 459, 18624, 7086, 1595, 2465, 11171, 29148, 7964, 1629, 25, 1595, 27835, 865, 46341, 856, 11171, 29148, 19884, 4897, 596, 433, 0, 3161, 1521, 7504, 11, 499, 1288, 387, 3025, 311, 1893, 264, 12460, 18624, 389, 701, 48095, 12970, 1887, 13, 128009], 'total_duration': 85719983824, 'load_duration': 9882204, 'prompt_eval_count': 14, 'prompt_eval_duration': 1380833000, 'eval_count': 404, 'eval_duration': 84328208000}\n"
     ]
    }
   ],
   "source": [
    "url=\"http://localhost:11434/api/generate\"\n",
    "import requests\n",
    "response = requests.post(url, json=request)\n",
    "if response.status_code==200:\n",
    "    print(response.json())"
   ]
  },
  {
   "cell_type": "code",
   "execution_count": 21,
   "metadata": {},
   "outputs": [
    {
     "name": "stdout",
     "output_type": "stream",
     "text": [
      "A tar (tape archive) is a type of archive file that can store and compress files on a Unix-like system. Here are the steps to create a tar archive:\n",
      "\n",
      "**Using the `tar` command:**\n",
      "\n",
      "1. Open a terminal or command prompt.\n",
      "2. Navigate to the directory where you want to create the archive. You can use the `cd` command to change directories.\n",
      "3. Use the following syntax to create a tar archive:\n",
      "```\n",
      "tar -czf output_file.tar file1 file2 ... filen\n",
      "```\n",
      "Replace `output_file.tar` with the desired name of your archive file, and `file1`, `file2`, etc., with the names of the files you want to include in the archive.\n",
      "\n",
      "The options used are:\n",
      "\n",
      "* `-c`: Create a new tar archive.\n",
      "* `-z`: Use gzip compression (default is none).\n",
      "* `-f`: Specify the output file name.\n",
      "4. Press Enter to create the archive.\n",
      "\n",
      "**Example:**\n",
      "```\n",
      "tar -czf my_files.tar document.txt image.jpg script.sh\n",
      "```\n",
      "This command creates an archive named `my_files.tar` that contains the files `document.txt`, `image.jpg`, and `script.sh`.\n",
      "\n",
      "**Using a GUI tool:**\n",
      "\n",
      "If you prefer a graphical interface, you can use a file archiver like File Roller (on Linux) or Archive Utility (on macOS). These tools provide a simple way to create tar archives without using the command line.\n",
      "\n",
      "**Additional tips:**\n",
      "\n",
      "* To include all files in the current directory and its subdirectories, use `tar -czf output_file.tar .`\n",
      "* You can also specify multiple files by separating their names with spaces or commas.\n",
      "* Tar archives can be extracted using the `tar` command as well. For example, to extract an archive named `my_files.tar`, run: `tar xvf my_files.tar`\n",
      "\n",
      "That's it! With these steps, you should be able to create a tar archive on your Unix-like system.\n"
     ]
    }
   ],
   "source": [
    "print(response.json()['response'])"
   ]
  },
  {
   "cell_type": "code",
   "execution_count": 23,
   "metadata": {},
   "outputs": [],
   "source": [
    "model=\"llama3\"\n",
    "prompt=\"What is the size of the most popular LLM models? Please provide the answer in JSON format.\""
   ]
  },
  {
   "cell_type": "code",
   "execution_count": 24,
   "metadata": {},
   "outputs": [],
   "source": [
    "request={}\n",
    "request['model']=model\n",
    "request['prompt']=prompt\n",
    "request['format']='json'\n",
    "request['stream']=False"
   ]
  },
  {
   "cell_type": "code",
   "execution_count": 25,
   "metadata": {},
   "outputs": [
    {
     "name": "stdout",
     "output_type": "stream",
     "text": [
      "{ \"LLaMA\": {\"params\": {\"d_model\": 256, \"h_size\": 128}, \"size\": {\"params\": 1024, \"emb\": 128} }, \n",
      "\"BarlowTwins\": { \"params\": {\"d_model\": 2048}, \"size\": {} }, \n",
      "\"DeiT\": { \"params\": {\"embed_dim\": 512}, \"size\": {} }, \n",
      "\"BART\": { \"params\": {\"max_position_embeddings\": 1024, \"hidden_size\": 1280}, \"size\": {} }, \n",
      "\"DALL-E-Open\": { \"params\": {\"text_length\": 256, \"num_channels\": 128}, \"size\": {} }, \n",
      "\"CLIP-ViT-Large\": { \"params\": {\"vision_patch_size\": 224, \"hidden_size\": 1024}, \"size\": {} }, \n",
      "\"ViLBERT\": { \"params\": {\"bert_config\": {\"max_position_embeddings\": 512}}, \"size\": {} }, \n",
      "\"ProT5\": { \"params\": {\"d_model\": 2048}, \"size\": {} }, \n",
      "\"Chinchilla\": { \"params\": {\"depth\": 12, \"embed_dim\": 1280}, \"size\": {} }, \n",
      "\"BLOOM-176b\": { \"params\": {\"num_heads\": 16, \"hidden_size\": 4096}, \"size\": {} }\n",
      "}\n",
      "\n",
      " \n",
      " \n",
      "\n",
      " \n",
      "\n",
      " \n",
      "\n",
      " \n",
      "\n",
      " \n",
      "\n",
      " \n",
      "\n",
      " \n",
      "\n",
      " \n",
      "\n",
      " \n",
      "\n",
      " \n",
      "\n",
      " \n",
      "\n",
      " \n",
      "\n",
      " \n",
      "\n",
      " \n",
      "\n",
      " \n",
      "\n",
      " \n",
      "\n",
      " \n",
      "\n",
      " \n",
      "\n",
      " \n",
      "\n",
      " \n",
      "\n",
      " \n",
      "\n",
      " \n",
      "\n",
      " \n",
      "\n",
      " \n",
      "\n",
      " \n",
      "\n",
      " \n",
      "\n",
      " \n",
      "\n",
      " \n",
      "\n",
      " \n",
      "\n",
      " \n",
      "\n",
      "\n"
     ]
    }
   ],
   "source": [
    "url=\"http://localhost:11434/api/generate\"\n",
    "import requests\n",
    "response = requests.post(url, json=request)\n",
    "if response.status_code==200:\n",
    "    print(response.json()['response'])"
   ]
  }
 ],
 "metadata": {
  "kernelspec": {
   "display_name": ".venv",
   "language": "python",
   "name": "python3"
  },
  "language_info": {
   "codemirror_mode": {
    "name": "ipython",
    "version": 3
   },
   "file_extension": ".py",
   "mimetype": "text/x-python",
   "name": "python",
   "nbconvert_exporter": "python",
   "pygments_lexer": "ipython3",
   "version": "3.11.5"
  }
 },
 "nbformat": 4,
 "nbformat_minor": 2
}